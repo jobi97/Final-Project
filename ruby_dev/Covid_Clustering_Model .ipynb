{
 "cells": [
  {
   "cell_type": "markdown",
   "metadata": {},
   "source": [
    "Clustering the US Demographics most impacted by Covid-19\n"
   ]
  },
  {
   "cell_type": "markdown",
   "metadata": {},
   "source": [
    "Steps performed in this project:\n",
    "\n",
    "Exploratory Data Analysis\n",
    "\n",
    "Feature Engineering\n",
    "\n",
    "Handle Missing Values\n",
    "\n",
    "One Hot Encoding\n",
    "\n",
    "Scaling and Normalization\n",
    "\n",
    "PCA Transformation\n",
    "\n",
    "Model Building and Evaluation\n",
    "\n",
    "Elbow Method\n",
    "\n",
    "Silhouette Coefficient\n",
    "\n",
    "K-Means Clustering Model\n",
    "\n",
    "Result"
   ]
  },
  {
   "cell_type": "code",
   "execution_count": 1,
   "metadata": {},
   "outputs": [],
   "source": [
    "# Importing the basic libraries\n",
    "import pandas as pd               # linear algebra\n",
    "import seaborn as sns             # data visualization\n",
    "import numpy as np                # data processing\n",
    "import matplotlib.pyplot as plt   # data visualization\n",
    "%matplotlib inline\n",
    "\n",
    "# Display all the columns of the dataframe\n",
    "pd.pandas.set_option('display.max_columns',None)\n",
    "\n",
    "# Ignore and hide warnings\n",
    "import warnings\n",
    "warnings.filterwarnings(\"ignore\")\n",
    "\n",
    "# Change figure size of all the matplotlib visualizations \n",
    "from pylab import rcParams\n",
    "rcParams['figure.figsize'] = 14, 8"
   ]
  },
  {
   "cell_type": "code",
   "execution_count": 2,
   "metadata": {},
   "outputs": [
    {
     "data": {
      "text/html": [
       "<div>\n",
       "<style scoped>\n",
       "    .dataframe tbody tr th:only-of-type {\n",
       "        vertical-align: middle;\n",
       "    }\n",
       "\n",
       "    .dataframe tbody tr th {\n",
       "        vertical-align: top;\n",
       "    }\n",
       "\n",
       "    .dataframe thead th {\n",
       "        text-align: right;\n",
       "    }\n",
       "</style>\n",
       "<table border=\"1\" class=\"dataframe\">\n",
       "  <thead>\n",
       "    <tr style=\"text-align: right;\">\n",
       "      <th></th>\n",
       "      <th>Record_ID</th>\n",
       "      <th>Record_Year</th>\n",
       "      <th>Record_Month</th>\n",
       "      <th>Record_State</th>\n",
       "      <th>Sex</th>\n",
       "      <th>Age_Group</th>\n",
       "      <th>Covid_Deaths</th>\n",
       "      <th>Total_Deaths</th>\n",
       "      <th>Pneumonia_Deaths</th>\n",
       "      <th>Pneumonia_Covid_Deaths</th>\n",
       "      <th>Influenza_Deaths</th>\n",
       "      <th>Pneumonia_Influenza_Covid_Deaths</th>\n",
       "    </tr>\n",
       "  </thead>\n",
       "  <tbody>\n",
       "    <tr>\n",
       "      <th>0</th>\n",
       "      <td>9096</td>\n",
       "      <td>2020.0</td>\n",
       "      <td>1.0</td>\n",
       "      <td>Alabama</td>\n",
       "      <td>Male</td>\n",
       "      <td>Under 1 year</td>\n",
       "      <td>0.0</td>\n",
       "      <td>17.0</td>\n",
       "      <td>0.0</td>\n",
       "      <td>0.0</td>\n",
       "      <td>0.0</td>\n",
       "      <td>0.0</td>\n",
       "    </tr>\n",
       "    <tr>\n",
       "      <th>1</th>\n",
       "      <td>9097</td>\n",
       "      <td>2020.0</td>\n",
       "      <td>1.0</td>\n",
       "      <td>Alabama</td>\n",
       "      <td>Male</td>\n",
       "      <td>0-17 years</td>\n",
       "      <td>0.0</td>\n",
       "      <td>44.0</td>\n",
       "      <td>0.0</td>\n",
       "      <td>0.0</td>\n",
       "      <td>NaN</td>\n",
       "      <td>NaN</td>\n",
       "    </tr>\n",
       "    <tr>\n",
       "      <th>2</th>\n",
       "      <td>9098</td>\n",
       "      <td>2020.0</td>\n",
       "      <td>1.0</td>\n",
       "      <td>Alabama</td>\n",
       "      <td>Male</td>\n",
       "      <td>1-4 years</td>\n",
       "      <td>0.0</td>\n",
       "      <td>NaN</td>\n",
       "      <td>0.0</td>\n",
       "      <td>0.0</td>\n",
       "      <td>0.0</td>\n",
       "      <td>0.0</td>\n",
       "    </tr>\n",
       "    <tr>\n",
       "      <th>3</th>\n",
       "      <td>9099</td>\n",
       "      <td>2020.0</td>\n",
       "      <td>1.0</td>\n",
       "      <td>Alabama</td>\n",
       "      <td>Male</td>\n",
       "      <td>5-14 years</td>\n",
       "      <td>0.0</td>\n",
       "      <td>11.0</td>\n",
       "      <td>0.0</td>\n",
       "      <td>0.0</td>\n",
       "      <td>0.0</td>\n",
       "      <td>0.0</td>\n",
       "    </tr>\n",
       "    <tr>\n",
       "      <th>4</th>\n",
       "      <td>9100</td>\n",
       "      <td>2020.0</td>\n",
       "      <td>1.0</td>\n",
       "      <td>Alabama</td>\n",
       "      <td>Male</td>\n",
       "      <td>15-24 years</td>\n",
       "      <td>0.0</td>\n",
       "      <td>43.0</td>\n",
       "      <td>0.0</td>\n",
       "      <td>0.0</td>\n",
       "      <td>NaN</td>\n",
       "      <td>NaN</td>\n",
       "    </tr>\n",
       "  </tbody>\n",
       "</table>\n",
       "</div>"
      ],
      "text/plain": [
       "   Record_ID  Record_Year  Record_Month Record_State   Sex     Age_Group  \\\n",
       "0       9096       2020.0           1.0      Alabama  Male  Under 1 year   \n",
       "1       9097       2020.0           1.0      Alabama  Male    0-17 years   \n",
       "2       9098       2020.0           1.0      Alabama  Male     1-4 years   \n",
       "3       9099       2020.0           1.0      Alabama  Male    5-14 years   \n",
       "4       9100       2020.0           1.0      Alabama  Male   15-24 years   \n",
       "\n",
       "   Covid_Deaths  Total_Deaths  Pneumonia_Deaths  Pneumonia_Covid_Deaths  \\\n",
       "0           0.0          17.0               0.0                     0.0   \n",
       "1           0.0          44.0               0.0                     0.0   \n",
       "2           0.0           NaN               0.0                     0.0   \n",
       "3           0.0          11.0               0.0                     0.0   \n",
       "4           0.0          43.0               0.0                     0.0   \n",
       "\n",
       "   Influenza_Deaths  Pneumonia_Influenza_Covid_Deaths  \n",
       "0               0.0                               0.0  \n",
       "1               NaN                               NaN  \n",
       "2               0.0                               0.0  \n",
       "3               0.0                               0.0  \n",
       "4               NaN                               NaN  "
      ]
     },
     "execution_count": 2,
     "metadata": {},
     "output_type": "execute_result"
    }
   ],
   "source": [
    "# Load the data \n",
    "data_modified = pd.read_csv(\"data_modified.csv\")\n",
    "data_modified.head()"
   ]
  },
  {
   "cell_type": "code",
   "execution_count": 3,
   "metadata": {},
   "outputs": [
    {
     "data": {
      "text/plain": [
       "(27136, 12)"
      ]
     },
     "execution_count": 3,
     "metadata": {},
     "output_type": "execute_result"
    }
   ],
   "source": [
    "data_modified.shape"
   ]
  },
  {
   "cell_type": "code",
   "execution_count": 4,
   "metadata": {},
   "outputs": [
    {
     "data": {
      "text/plain": [
       "Record_ID                              0\n",
       "Record_Year                            0\n",
       "Record_Month                           0\n",
       "Record_State                           0\n",
       "Sex                                    0\n",
       "Age_Group                              0\n",
       "Covid_Deaths                        7027\n",
       "Total_Deaths                        5597\n",
       "Pneumonia_Deaths                    9203\n",
       "Pneumonia_Covid_Deaths              6618\n",
       "Influenza_Deaths                    3558\n",
       "Pneumonia_Influenza_Covid_Deaths    9198\n",
       "dtype: int64"
      ]
     },
     "execution_count": 4,
     "metadata": {},
     "output_type": "execute_result"
    }
   ],
   "source": [
    "#Handle Missing Value \n",
    "data_modified.isnull().sum()"
   ]
  },
  {
   "cell_type": "code",
   "execution_count": 5,
   "metadata": {},
   "outputs": [],
   "source": [
    "data_modified.fillna(0, inplace=True)"
   ]
  },
  {
   "cell_type": "code",
   "execution_count": 6,
   "metadata": {},
   "outputs": [
    {
     "name": "stdout",
     "output_type": "stream",
     "text": [
      "<class 'pandas.core.frame.DataFrame'>\n",
      "RangeIndex: 27136 entries, 0 to 27135\n",
      "Data columns (total 12 columns):\n",
      " #   Column                            Non-Null Count  Dtype  \n",
      "---  ------                            --------------  -----  \n",
      " 0   Record_ID                         27136 non-null  int64  \n",
      " 1   Record_Year                       27136 non-null  float64\n",
      " 2   Record_Month                      27136 non-null  float64\n",
      " 3   Record_State                      27136 non-null  object \n",
      " 4   Sex                               27136 non-null  object \n",
      " 5   Age_Group                         27136 non-null  object \n",
      " 6   Covid_Deaths                      27136 non-null  float64\n",
      " 7   Total_Deaths                      27136 non-null  float64\n",
      " 8   Pneumonia_Deaths                  27136 non-null  float64\n",
      " 9   Pneumonia_Covid_Deaths            27136 non-null  float64\n",
      " 10  Influenza_Deaths                  27136 non-null  float64\n",
      " 11  Pneumonia_Influenza_Covid_Deaths  27136 non-null  float64\n",
      "dtypes: float64(8), int64(1), object(3)\n",
      "memory usage: 2.5+ MB\n"
     ]
    }
   ],
   "source": [
    "data_modified.info()"
   ]
  },
  {
   "cell_type": "markdown",
   "metadata": {},
   "source": [
    "One Hot Encoding"
   ]
  },
  {
   "cell_type": "code",
   "execution_count": 7,
   "metadata": {},
   "outputs": [
    {
     "data": {
      "text/html": [
       "<div>\n",
       "<style scoped>\n",
       "    .dataframe tbody tr th:only-of-type {\n",
       "        vertical-align: middle;\n",
       "    }\n",
       "\n",
       "    .dataframe tbody tr th {\n",
       "        vertical-align: top;\n",
       "    }\n",
       "\n",
       "    .dataframe thead th {\n",
       "        text-align: right;\n",
       "    }\n",
       "</style>\n",
       "<table border=\"1\" class=\"dataframe\">\n",
       "  <thead>\n",
       "    <tr style=\"text-align: right;\">\n",
       "      <th></th>\n",
       "      <th>Record_ID</th>\n",
       "      <th>Record_Year</th>\n",
       "      <th>Record_Month</th>\n",
       "      <th>Record_State</th>\n",
       "      <th>Covid_Deaths</th>\n",
       "      <th>Total_Deaths</th>\n",
       "      <th>Pneumonia_Deaths</th>\n",
       "      <th>Pneumonia_Covid_Deaths</th>\n",
       "      <th>Influenza_Deaths</th>\n",
       "      <th>Pneumonia_Influenza_Covid_Deaths</th>\n",
       "      <th>Female</th>\n",
       "      <th>Male</th>\n",
       "      <th>0-17 years</th>\n",
       "      <th>1-4 years</th>\n",
       "      <th>15-24 years</th>\n",
       "      <th>18-29 years</th>\n",
       "      <th>25-34 years</th>\n",
       "      <th>30-39 years</th>\n",
       "      <th>35-44 years</th>\n",
       "      <th>40-49 years</th>\n",
       "      <th>45-54 years</th>\n",
       "      <th>5-14 years</th>\n",
       "      <th>50-64 years</th>\n",
       "      <th>55-64 years</th>\n",
       "      <th>65-74 years</th>\n",
       "      <th>75-84 years</th>\n",
       "      <th>85 years and over</th>\n",
       "      <th>Under 1 year</th>\n",
       "    </tr>\n",
       "  </thead>\n",
       "  <tbody>\n",
       "    <tr>\n",
       "      <th>0</th>\n",
       "      <td>9096</td>\n",
       "      <td>2020.0</td>\n",
       "      <td>1.0</td>\n",
       "      <td>Alabama</td>\n",
       "      <td>0.0</td>\n",
       "      <td>17.0</td>\n",
       "      <td>0.0</td>\n",
       "      <td>0.0</td>\n",
       "      <td>0.0</td>\n",
       "      <td>0.0</td>\n",
       "      <td>0</td>\n",
       "      <td>1</td>\n",
       "      <td>0</td>\n",
       "      <td>0</td>\n",
       "      <td>0</td>\n",
       "      <td>0</td>\n",
       "      <td>0</td>\n",
       "      <td>0</td>\n",
       "      <td>0</td>\n",
       "      <td>0</td>\n",
       "      <td>0</td>\n",
       "      <td>0</td>\n",
       "      <td>0</td>\n",
       "      <td>0</td>\n",
       "      <td>0</td>\n",
       "      <td>0</td>\n",
       "      <td>0</td>\n",
       "      <td>1</td>\n",
       "    </tr>\n",
       "    <tr>\n",
       "      <th>1</th>\n",
       "      <td>9097</td>\n",
       "      <td>2020.0</td>\n",
       "      <td>1.0</td>\n",
       "      <td>Alabama</td>\n",
       "      <td>0.0</td>\n",
       "      <td>44.0</td>\n",
       "      <td>0.0</td>\n",
       "      <td>0.0</td>\n",
       "      <td>0.0</td>\n",
       "      <td>0.0</td>\n",
       "      <td>0</td>\n",
       "      <td>1</td>\n",
       "      <td>1</td>\n",
       "      <td>0</td>\n",
       "      <td>0</td>\n",
       "      <td>0</td>\n",
       "      <td>0</td>\n",
       "      <td>0</td>\n",
       "      <td>0</td>\n",
       "      <td>0</td>\n",
       "      <td>0</td>\n",
       "      <td>0</td>\n",
       "      <td>0</td>\n",
       "      <td>0</td>\n",
       "      <td>0</td>\n",
       "      <td>0</td>\n",
       "      <td>0</td>\n",
       "      <td>0</td>\n",
       "    </tr>\n",
       "    <tr>\n",
       "      <th>2</th>\n",
       "      <td>9098</td>\n",
       "      <td>2020.0</td>\n",
       "      <td>1.0</td>\n",
       "      <td>Alabama</td>\n",
       "      <td>0.0</td>\n",
       "      <td>0.0</td>\n",
       "      <td>0.0</td>\n",
       "      <td>0.0</td>\n",
       "      <td>0.0</td>\n",
       "      <td>0.0</td>\n",
       "      <td>0</td>\n",
       "      <td>1</td>\n",
       "      <td>0</td>\n",
       "      <td>1</td>\n",
       "      <td>0</td>\n",
       "      <td>0</td>\n",
       "      <td>0</td>\n",
       "      <td>0</td>\n",
       "      <td>0</td>\n",
       "      <td>0</td>\n",
       "      <td>0</td>\n",
       "      <td>0</td>\n",
       "      <td>0</td>\n",
       "      <td>0</td>\n",
       "      <td>0</td>\n",
       "      <td>0</td>\n",
       "      <td>0</td>\n",
       "      <td>0</td>\n",
       "    </tr>\n",
       "    <tr>\n",
       "      <th>3</th>\n",
       "      <td>9099</td>\n",
       "      <td>2020.0</td>\n",
       "      <td>1.0</td>\n",
       "      <td>Alabama</td>\n",
       "      <td>0.0</td>\n",
       "      <td>11.0</td>\n",
       "      <td>0.0</td>\n",
       "      <td>0.0</td>\n",
       "      <td>0.0</td>\n",
       "      <td>0.0</td>\n",
       "      <td>0</td>\n",
       "      <td>1</td>\n",
       "      <td>0</td>\n",
       "      <td>0</td>\n",
       "      <td>0</td>\n",
       "      <td>0</td>\n",
       "      <td>0</td>\n",
       "      <td>0</td>\n",
       "      <td>0</td>\n",
       "      <td>0</td>\n",
       "      <td>0</td>\n",
       "      <td>1</td>\n",
       "      <td>0</td>\n",
       "      <td>0</td>\n",
       "      <td>0</td>\n",
       "      <td>0</td>\n",
       "      <td>0</td>\n",
       "      <td>0</td>\n",
       "    </tr>\n",
       "    <tr>\n",
       "      <th>4</th>\n",
       "      <td>9100</td>\n",
       "      <td>2020.0</td>\n",
       "      <td>1.0</td>\n",
       "      <td>Alabama</td>\n",
       "      <td>0.0</td>\n",
       "      <td>43.0</td>\n",
       "      <td>0.0</td>\n",
       "      <td>0.0</td>\n",
       "      <td>0.0</td>\n",
       "      <td>0.0</td>\n",
       "      <td>0</td>\n",
       "      <td>1</td>\n",
       "      <td>0</td>\n",
       "      <td>0</td>\n",
       "      <td>1</td>\n",
       "      <td>0</td>\n",
       "      <td>0</td>\n",
       "      <td>0</td>\n",
       "      <td>0</td>\n",
       "      <td>0</td>\n",
       "      <td>0</td>\n",
       "      <td>0</td>\n",
       "      <td>0</td>\n",
       "      <td>0</td>\n",
       "      <td>0</td>\n",
       "      <td>0</td>\n",
       "      <td>0</td>\n",
       "      <td>0</td>\n",
       "    </tr>\n",
       "  </tbody>\n",
       "</table>\n",
       "</div>"
      ],
      "text/plain": [
       "   Record_ID  Record_Year  Record_Month Record_State  Covid_Deaths  \\\n",
       "0       9096       2020.0           1.0      Alabama           0.0   \n",
       "1       9097       2020.0           1.0      Alabama           0.0   \n",
       "2       9098       2020.0           1.0      Alabama           0.0   \n",
       "3       9099       2020.0           1.0      Alabama           0.0   \n",
       "4       9100       2020.0           1.0      Alabama           0.0   \n",
       "\n",
       "   Total_Deaths  Pneumonia_Deaths  Pneumonia_Covid_Deaths  Influenza_Deaths  \\\n",
       "0          17.0               0.0                     0.0               0.0   \n",
       "1          44.0               0.0                     0.0               0.0   \n",
       "2           0.0               0.0                     0.0               0.0   \n",
       "3          11.0               0.0                     0.0               0.0   \n",
       "4          43.0               0.0                     0.0               0.0   \n",
       "\n",
       "   Pneumonia_Influenza_Covid_Deaths  Female  Male  0-17 years  1-4 years  \\\n",
       "0                               0.0       0     1           0          0   \n",
       "1                               0.0       0     1           1          0   \n",
       "2                               0.0       0     1           0          1   \n",
       "3                               0.0       0     1           0          0   \n",
       "4                               0.0       0     1           0          0   \n",
       "\n",
       "   15-24 years  18-29 years  25-34 years  30-39 years  35-44 years  \\\n",
       "0            0            0            0            0            0   \n",
       "1            0            0            0            0            0   \n",
       "2            0            0            0            0            0   \n",
       "3            0            0            0            0            0   \n",
       "4            1            0            0            0            0   \n",
       "\n",
       "   40-49 years  45-54 years  5-14 years  50-64 years  55-64 years  \\\n",
       "0            0            0           0            0            0   \n",
       "1            0            0           0            0            0   \n",
       "2            0            0           0            0            0   \n",
       "3            0            0           1            0            0   \n",
       "4            0            0           0            0            0   \n",
       "\n",
       "   65-74 years  75-84 years  85 years and over  Under 1 year  \n",
       "0            0            0                  0             1  \n",
       "1            0            0                  0             0  \n",
       "2            0            0                  0             0  \n",
       "3            0            0                  0             0  \n",
       "4            0            0                  0             0  "
      ]
     },
     "execution_count": 7,
     "metadata": {},
     "output_type": "execute_result"
    }
   ],
   "source": [
    "sex=pd.get_dummies(data_modified['Sex'])\n",
    "age=pd.get_dummies(data_modified['Age_Group'])\n",
    "\n",
    "data_modified=data_modified.drop(['Sex', 'Age_Group'], axis=1)\n",
    "data_modified=pd.concat([data_modified, sex, age], axis=1)\n",
    "\n",
    "data_modified.head()"
   ]
  },
  {
   "cell_type": "code",
   "execution_count": 8,
   "metadata": {},
   "outputs": [],
   "source": [
    "state=pd.get_dummies(data_modified['Record_State'])\n",
    "\n",
    "data_modified=data_modified.drop(['Record_State'], axis=1)\n",
    "data_modified=pd.concat([data_modified, state], axis=1)"
   ]
  },
  {
   "cell_type": "code",
   "execution_count": 9,
   "metadata": {},
   "outputs": [
    {
     "name": "stdout",
     "output_type": "stream",
     "text": [
      "<class 'pandas.core.frame.DataFrame'>\n",
      "RangeIndex: 27136 entries, 0 to 27135\n",
      "Data columns (total 80 columns):\n",
      " #   Column                            Non-Null Count  Dtype  \n",
      "---  ------                            --------------  -----  \n",
      " 0   Record_ID                         27136 non-null  int64  \n",
      " 1   Record_Year                       27136 non-null  float64\n",
      " 2   Record_Month                      27136 non-null  float64\n",
      " 3   Covid_Deaths                      27136 non-null  float64\n",
      " 4   Total_Deaths                      27136 non-null  float64\n",
      " 5   Pneumonia_Deaths                  27136 non-null  float64\n",
      " 6   Pneumonia_Covid_Deaths            27136 non-null  float64\n",
      " 7   Influenza_Deaths                  27136 non-null  float64\n",
      " 8   Pneumonia_Influenza_Covid_Deaths  27136 non-null  float64\n",
      " 9   Female                            27136 non-null  uint8  \n",
      " 10  Male                              27136 non-null  uint8  \n",
      " 11  0-17 years                        27136 non-null  uint8  \n",
      " 12  1-4 years                         27136 non-null  uint8  \n",
      " 13  15-24 years                       27136 non-null  uint8  \n",
      " 14  18-29 years                       27136 non-null  uint8  \n",
      " 15  25-34 years                       27136 non-null  uint8  \n",
      " 16  30-39 years                       27136 non-null  uint8  \n",
      " 17  35-44 years                       27136 non-null  uint8  \n",
      " 18  40-49 years                       27136 non-null  uint8  \n",
      " 19  45-54 years                       27136 non-null  uint8  \n",
      " 20  5-14 years                        27136 non-null  uint8  \n",
      " 21  50-64 years                       27136 non-null  uint8  \n",
      " 22  55-64 years                       27136 non-null  uint8  \n",
      " 23  65-74 years                       27136 non-null  uint8  \n",
      " 24  75-84 years                       27136 non-null  uint8  \n",
      " 25  85 years and over                 27136 non-null  uint8  \n",
      " 26  Under 1 year                      27136 non-null  uint8  \n",
      " 27  Alabama                           27136 non-null  uint8  \n",
      " 28  Alaska                            27136 non-null  uint8  \n",
      " 29  Arizona                           27136 non-null  uint8  \n",
      " 30  Arkansas                          27136 non-null  uint8  \n",
      " 31  California                        27136 non-null  uint8  \n",
      " 32  Colorado                          27136 non-null  uint8  \n",
      " 33  Connecticut                       27136 non-null  uint8  \n",
      " 34  Delaware                          27136 non-null  uint8  \n",
      " 35  District of Columbia              27136 non-null  uint8  \n",
      " 36  Florida                           27136 non-null  uint8  \n",
      " 37  Georgia                           27136 non-null  uint8  \n",
      " 38  Hawaii                            27136 non-null  uint8  \n",
      " 39  Idaho                             27136 non-null  uint8  \n",
      " 40  Illinois                          27136 non-null  uint8  \n",
      " 41  Indiana                           27136 non-null  uint8  \n",
      " 42  Iowa                              27136 non-null  uint8  \n",
      " 43  Kansas                            27136 non-null  uint8  \n",
      " 44  Kentucky                          27136 non-null  uint8  \n",
      " 45  Louisiana                         27136 non-null  uint8  \n",
      " 46  Maine                             27136 non-null  uint8  \n",
      " 47  Maryland                          27136 non-null  uint8  \n",
      " 48  Massachusetts                     27136 non-null  uint8  \n",
      " 49  Michigan                          27136 non-null  uint8  \n",
      " 50  Minnesota                         27136 non-null  uint8  \n",
      " 51  Mississippi                       27136 non-null  uint8  \n",
      " 52  Missouri                          27136 non-null  uint8  \n",
      " 53  Montana                           27136 non-null  uint8  \n",
      " 54  Nebraska                          27136 non-null  uint8  \n",
      " 55  Nevada                            27136 non-null  uint8  \n",
      " 56  New Hampshire                     27136 non-null  uint8  \n",
      " 57  New Jersey                        27136 non-null  uint8  \n",
      " 58  New Mexico                        27136 non-null  uint8  \n",
      " 59  New York                          27136 non-null  uint8  \n",
      " 60  New York City                     27136 non-null  uint8  \n",
      " 61  North Carolina                    27136 non-null  uint8  \n",
      " 62  North Dakota                      27136 non-null  uint8  \n",
      " 63  Ohio                              27136 non-null  uint8  \n",
      " 64  Oklahoma                          27136 non-null  uint8  \n",
      " 65  Oregon                            27136 non-null  uint8  \n",
      " 66  Pennsylvania                      27136 non-null  uint8  \n",
      " 67  Puerto Rico                       27136 non-null  uint8  \n",
      " 68  Rhode Island                      27136 non-null  uint8  \n",
      " 69  South Carolina                    27136 non-null  uint8  \n",
      " 70  South Dakota                      27136 non-null  uint8  \n",
      " 71  Tennessee                         27136 non-null  uint8  \n",
      " 72  Texas                             27136 non-null  uint8  \n",
      " 73  Utah                              27136 non-null  uint8  \n",
      " 74  Vermont                           27136 non-null  uint8  \n",
      " 75  Virginia                          27136 non-null  uint8  \n",
      " 76  Washington                        27136 non-null  uint8  \n",
      " 77  West Virginia                     27136 non-null  uint8  \n",
      " 78  Wisconsin                         27136 non-null  uint8  \n",
      " 79  Wyoming                           27136 non-null  uint8  \n",
      "dtypes: float64(8), int64(1), uint8(71)\n",
      "memory usage: 3.7 MB\n"
     ]
    }
   ],
   "source": [
    "data_modified.info()"
   ]
  },
  {
   "cell_type": "code",
   "execution_count": 10,
   "metadata": {},
   "outputs": [
    {
     "data": {
      "text/html": [
       "<div>\n",
       "<style scoped>\n",
       "    .dataframe tbody tr th:only-of-type {\n",
       "        vertical-align: middle;\n",
       "    }\n",
       "\n",
       "    .dataframe tbody tr th {\n",
       "        vertical-align: top;\n",
       "    }\n",
       "\n",
       "    .dataframe thead th {\n",
       "        text-align: right;\n",
       "    }\n",
       "</style>\n",
       "<table border=\"1\" class=\"dataframe\">\n",
       "  <thead>\n",
       "    <tr style=\"text-align: right;\">\n",
       "      <th></th>\n",
       "      <th>Record_ID</th>\n",
       "      <th>Record_Year</th>\n",
       "      <th>Record_Month</th>\n",
       "      <th>Covid_Deaths</th>\n",
       "      <th>Female</th>\n",
       "      <th>Male</th>\n",
       "      <th>0-17 years</th>\n",
       "      <th>1-4 years</th>\n",
       "      <th>15-24 years</th>\n",
       "      <th>18-29 years</th>\n",
       "      <th>25-34 years</th>\n",
       "      <th>30-39 years</th>\n",
       "      <th>35-44 years</th>\n",
       "      <th>40-49 years</th>\n",
       "      <th>45-54 years</th>\n",
       "      <th>5-14 years</th>\n",
       "      <th>50-64 years</th>\n",
       "      <th>55-64 years</th>\n",
       "      <th>65-74 years</th>\n",
       "      <th>75-84 years</th>\n",
       "      <th>85 years and over</th>\n",
       "      <th>Under 1 year</th>\n",
       "      <th>Alabama</th>\n",
       "      <th>Alaska</th>\n",
       "      <th>Arizona</th>\n",
       "      <th>Arkansas</th>\n",
       "      <th>California</th>\n",
       "      <th>Colorado</th>\n",
       "      <th>Connecticut</th>\n",
       "      <th>Delaware</th>\n",
       "      <th>District of Columbia</th>\n",
       "      <th>Florida</th>\n",
       "      <th>Georgia</th>\n",
       "      <th>Hawaii</th>\n",
       "      <th>Idaho</th>\n",
       "      <th>Illinois</th>\n",
       "      <th>Indiana</th>\n",
       "      <th>Iowa</th>\n",
       "      <th>Kansas</th>\n",
       "      <th>Kentucky</th>\n",
       "      <th>Louisiana</th>\n",
       "      <th>Maine</th>\n",
       "      <th>Maryland</th>\n",
       "      <th>Massachusetts</th>\n",
       "      <th>Michigan</th>\n",
       "      <th>Minnesota</th>\n",
       "      <th>Mississippi</th>\n",
       "      <th>Missouri</th>\n",
       "      <th>Montana</th>\n",
       "      <th>Nebraska</th>\n",
       "      <th>Nevada</th>\n",
       "      <th>New Hampshire</th>\n",
       "      <th>New Jersey</th>\n",
       "      <th>New Mexico</th>\n",
       "      <th>New York</th>\n",
       "      <th>New York City</th>\n",
       "      <th>North Carolina</th>\n",
       "      <th>North Dakota</th>\n",
       "      <th>Ohio</th>\n",
       "      <th>Oklahoma</th>\n",
       "      <th>Oregon</th>\n",
       "      <th>Pennsylvania</th>\n",
       "      <th>Puerto Rico</th>\n",
       "      <th>Rhode Island</th>\n",
       "      <th>South Carolina</th>\n",
       "      <th>South Dakota</th>\n",
       "      <th>Tennessee</th>\n",
       "      <th>Texas</th>\n",
       "      <th>Utah</th>\n",
       "      <th>Vermont</th>\n",
       "      <th>Virginia</th>\n",
       "      <th>Washington</th>\n",
       "      <th>West Virginia</th>\n",
       "      <th>Wisconsin</th>\n",
       "      <th>Wyoming</th>\n",
       "    </tr>\n",
       "  </thead>\n",
       "  <tbody>\n",
       "    <tr>\n",
       "      <th>0</th>\n",
       "      <td>9096</td>\n",
       "      <td>2020.0</td>\n",
       "      <td>1.0</td>\n",
       "      <td>0.0</td>\n",
       "      <td>0</td>\n",
       "      <td>1</td>\n",
       "      <td>0</td>\n",
       "      <td>0</td>\n",
       "      <td>0</td>\n",
       "      <td>0</td>\n",
       "      <td>0</td>\n",
       "      <td>0</td>\n",
       "      <td>0</td>\n",
       "      <td>0</td>\n",
       "      <td>0</td>\n",
       "      <td>0</td>\n",
       "      <td>0</td>\n",
       "      <td>0</td>\n",
       "      <td>0</td>\n",
       "      <td>0</td>\n",
       "      <td>0</td>\n",
       "      <td>1</td>\n",
       "      <td>1</td>\n",
       "      <td>0</td>\n",
       "      <td>0</td>\n",
       "      <td>0</td>\n",
       "      <td>0</td>\n",
       "      <td>0</td>\n",
       "      <td>0</td>\n",
       "      <td>0</td>\n",
       "      <td>0</td>\n",
       "      <td>0</td>\n",
       "      <td>0</td>\n",
       "      <td>0</td>\n",
       "      <td>0</td>\n",
       "      <td>0</td>\n",
       "      <td>0</td>\n",
       "      <td>0</td>\n",
       "      <td>0</td>\n",
       "      <td>0</td>\n",
       "      <td>0</td>\n",
       "      <td>0</td>\n",
       "      <td>0</td>\n",
       "      <td>0</td>\n",
       "      <td>0</td>\n",
       "      <td>0</td>\n",
       "      <td>0</td>\n",
       "      <td>0</td>\n",
       "      <td>0</td>\n",
       "      <td>0</td>\n",
       "      <td>0</td>\n",
       "      <td>0</td>\n",
       "      <td>0</td>\n",
       "      <td>0</td>\n",
       "      <td>0</td>\n",
       "      <td>0</td>\n",
       "      <td>0</td>\n",
       "      <td>0</td>\n",
       "      <td>0</td>\n",
       "      <td>0</td>\n",
       "      <td>0</td>\n",
       "      <td>0</td>\n",
       "      <td>0</td>\n",
       "      <td>0</td>\n",
       "      <td>0</td>\n",
       "      <td>0</td>\n",
       "      <td>0</td>\n",
       "      <td>0</td>\n",
       "      <td>0</td>\n",
       "      <td>0</td>\n",
       "      <td>0</td>\n",
       "      <td>0</td>\n",
       "      <td>0</td>\n",
       "      <td>0</td>\n",
       "      <td>0</td>\n",
       "    </tr>\n",
       "    <tr>\n",
       "      <th>1</th>\n",
       "      <td>9097</td>\n",
       "      <td>2020.0</td>\n",
       "      <td>1.0</td>\n",
       "      <td>0.0</td>\n",
       "      <td>0</td>\n",
       "      <td>1</td>\n",
       "      <td>1</td>\n",
       "      <td>0</td>\n",
       "      <td>0</td>\n",
       "      <td>0</td>\n",
       "      <td>0</td>\n",
       "      <td>0</td>\n",
       "      <td>0</td>\n",
       "      <td>0</td>\n",
       "      <td>0</td>\n",
       "      <td>0</td>\n",
       "      <td>0</td>\n",
       "      <td>0</td>\n",
       "      <td>0</td>\n",
       "      <td>0</td>\n",
       "      <td>0</td>\n",
       "      <td>0</td>\n",
       "      <td>1</td>\n",
       "      <td>0</td>\n",
       "      <td>0</td>\n",
       "      <td>0</td>\n",
       "      <td>0</td>\n",
       "      <td>0</td>\n",
       "      <td>0</td>\n",
       "      <td>0</td>\n",
       "      <td>0</td>\n",
       "      <td>0</td>\n",
       "      <td>0</td>\n",
       "      <td>0</td>\n",
       "      <td>0</td>\n",
       "      <td>0</td>\n",
       "      <td>0</td>\n",
       "      <td>0</td>\n",
       "      <td>0</td>\n",
       "      <td>0</td>\n",
       "      <td>0</td>\n",
       "      <td>0</td>\n",
       "      <td>0</td>\n",
       "      <td>0</td>\n",
       "      <td>0</td>\n",
       "      <td>0</td>\n",
       "      <td>0</td>\n",
       "      <td>0</td>\n",
       "      <td>0</td>\n",
       "      <td>0</td>\n",
       "      <td>0</td>\n",
       "      <td>0</td>\n",
       "      <td>0</td>\n",
       "      <td>0</td>\n",
       "      <td>0</td>\n",
       "      <td>0</td>\n",
       "      <td>0</td>\n",
       "      <td>0</td>\n",
       "      <td>0</td>\n",
       "      <td>0</td>\n",
       "      <td>0</td>\n",
       "      <td>0</td>\n",
       "      <td>0</td>\n",
       "      <td>0</td>\n",
       "      <td>0</td>\n",
       "      <td>0</td>\n",
       "      <td>0</td>\n",
       "      <td>0</td>\n",
       "      <td>0</td>\n",
       "      <td>0</td>\n",
       "      <td>0</td>\n",
       "      <td>0</td>\n",
       "      <td>0</td>\n",
       "      <td>0</td>\n",
       "      <td>0</td>\n",
       "    </tr>\n",
       "    <tr>\n",
       "      <th>2</th>\n",
       "      <td>9098</td>\n",
       "      <td>2020.0</td>\n",
       "      <td>1.0</td>\n",
       "      <td>0.0</td>\n",
       "      <td>0</td>\n",
       "      <td>1</td>\n",
       "      <td>0</td>\n",
       "      <td>1</td>\n",
       "      <td>0</td>\n",
       "      <td>0</td>\n",
       "      <td>0</td>\n",
       "      <td>0</td>\n",
       "      <td>0</td>\n",
       "      <td>0</td>\n",
       "      <td>0</td>\n",
       "      <td>0</td>\n",
       "      <td>0</td>\n",
       "      <td>0</td>\n",
       "      <td>0</td>\n",
       "      <td>0</td>\n",
       "      <td>0</td>\n",
       "      <td>0</td>\n",
       "      <td>1</td>\n",
       "      <td>0</td>\n",
       "      <td>0</td>\n",
       "      <td>0</td>\n",
       "      <td>0</td>\n",
       "      <td>0</td>\n",
       "      <td>0</td>\n",
       "      <td>0</td>\n",
       "      <td>0</td>\n",
       "      <td>0</td>\n",
       "      <td>0</td>\n",
       "      <td>0</td>\n",
       "      <td>0</td>\n",
       "      <td>0</td>\n",
       "      <td>0</td>\n",
       "      <td>0</td>\n",
       "      <td>0</td>\n",
       "      <td>0</td>\n",
       "      <td>0</td>\n",
       "      <td>0</td>\n",
       "      <td>0</td>\n",
       "      <td>0</td>\n",
       "      <td>0</td>\n",
       "      <td>0</td>\n",
       "      <td>0</td>\n",
       "      <td>0</td>\n",
       "      <td>0</td>\n",
       "      <td>0</td>\n",
       "      <td>0</td>\n",
       "      <td>0</td>\n",
       "      <td>0</td>\n",
       "      <td>0</td>\n",
       "      <td>0</td>\n",
       "      <td>0</td>\n",
       "      <td>0</td>\n",
       "      <td>0</td>\n",
       "      <td>0</td>\n",
       "      <td>0</td>\n",
       "      <td>0</td>\n",
       "      <td>0</td>\n",
       "      <td>0</td>\n",
       "      <td>0</td>\n",
       "      <td>0</td>\n",
       "      <td>0</td>\n",
       "      <td>0</td>\n",
       "      <td>0</td>\n",
       "      <td>0</td>\n",
       "      <td>0</td>\n",
       "      <td>0</td>\n",
       "      <td>0</td>\n",
       "      <td>0</td>\n",
       "      <td>0</td>\n",
       "      <td>0</td>\n",
       "    </tr>\n",
       "    <tr>\n",
       "      <th>3</th>\n",
       "      <td>9099</td>\n",
       "      <td>2020.0</td>\n",
       "      <td>1.0</td>\n",
       "      <td>0.0</td>\n",
       "      <td>0</td>\n",
       "      <td>1</td>\n",
       "      <td>0</td>\n",
       "      <td>0</td>\n",
       "      <td>0</td>\n",
       "      <td>0</td>\n",
       "      <td>0</td>\n",
       "      <td>0</td>\n",
       "      <td>0</td>\n",
       "      <td>0</td>\n",
       "      <td>0</td>\n",
       "      <td>1</td>\n",
       "      <td>0</td>\n",
       "      <td>0</td>\n",
       "      <td>0</td>\n",
       "      <td>0</td>\n",
       "      <td>0</td>\n",
       "      <td>0</td>\n",
       "      <td>1</td>\n",
       "      <td>0</td>\n",
       "      <td>0</td>\n",
       "      <td>0</td>\n",
       "      <td>0</td>\n",
       "      <td>0</td>\n",
       "      <td>0</td>\n",
       "      <td>0</td>\n",
       "      <td>0</td>\n",
       "      <td>0</td>\n",
       "      <td>0</td>\n",
       "      <td>0</td>\n",
       "      <td>0</td>\n",
       "      <td>0</td>\n",
       "      <td>0</td>\n",
       "      <td>0</td>\n",
       "      <td>0</td>\n",
       "      <td>0</td>\n",
       "      <td>0</td>\n",
       "      <td>0</td>\n",
       "      <td>0</td>\n",
       "      <td>0</td>\n",
       "      <td>0</td>\n",
       "      <td>0</td>\n",
       "      <td>0</td>\n",
       "      <td>0</td>\n",
       "      <td>0</td>\n",
       "      <td>0</td>\n",
       "      <td>0</td>\n",
       "      <td>0</td>\n",
       "      <td>0</td>\n",
       "      <td>0</td>\n",
       "      <td>0</td>\n",
       "      <td>0</td>\n",
       "      <td>0</td>\n",
       "      <td>0</td>\n",
       "      <td>0</td>\n",
       "      <td>0</td>\n",
       "      <td>0</td>\n",
       "      <td>0</td>\n",
       "      <td>0</td>\n",
       "      <td>0</td>\n",
       "      <td>0</td>\n",
       "      <td>0</td>\n",
       "      <td>0</td>\n",
       "      <td>0</td>\n",
       "      <td>0</td>\n",
       "      <td>0</td>\n",
       "      <td>0</td>\n",
       "      <td>0</td>\n",
       "      <td>0</td>\n",
       "      <td>0</td>\n",
       "      <td>0</td>\n",
       "    </tr>\n",
       "    <tr>\n",
       "      <th>4</th>\n",
       "      <td>9100</td>\n",
       "      <td>2020.0</td>\n",
       "      <td>1.0</td>\n",
       "      <td>0.0</td>\n",
       "      <td>0</td>\n",
       "      <td>1</td>\n",
       "      <td>0</td>\n",
       "      <td>0</td>\n",
       "      <td>1</td>\n",
       "      <td>0</td>\n",
       "      <td>0</td>\n",
       "      <td>0</td>\n",
       "      <td>0</td>\n",
       "      <td>0</td>\n",
       "      <td>0</td>\n",
       "      <td>0</td>\n",
       "      <td>0</td>\n",
       "      <td>0</td>\n",
       "      <td>0</td>\n",
       "      <td>0</td>\n",
       "      <td>0</td>\n",
       "      <td>0</td>\n",
       "      <td>1</td>\n",
       "      <td>0</td>\n",
       "      <td>0</td>\n",
       "      <td>0</td>\n",
       "      <td>0</td>\n",
       "      <td>0</td>\n",
       "      <td>0</td>\n",
       "      <td>0</td>\n",
       "      <td>0</td>\n",
       "      <td>0</td>\n",
       "      <td>0</td>\n",
       "      <td>0</td>\n",
       "      <td>0</td>\n",
       "      <td>0</td>\n",
       "      <td>0</td>\n",
       "      <td>0</td>\n",
       "      <td>0</td>\n",
       "      <td>0</td>\n",
       "      <td>0</td>\n",
       "      <td>0</td>\n",
       "      <td>0</td>\n",
       "      <td>0</td>\n",
       "      <td>0</td>\n",
       "      <td>0</td>\n",
       "      <td>0</td>\n",
       "      <td>0</td>\n",
       "      <td>0</td>\n",
       "      <td>0</td>\n",
       "      <td>0</td>\n",
       "      <td>0</td>\n",
       "      <td>0</td>\n",
       "      <td>0</td>\n",
       "      <td>0</td>\n",
       "      <td>0</td>\n",
       "      <td>0</td>\n",
       "      <td>0</td>\n",
       "      <td>0</td>\n",
       "      <td>0</td>\n",
       "      <td>0</td>\n",
       "      <td>0</td>\n",
       "      <td>0</td>\n",
       "      <td>0</td>\n",
       "      <td>0</td>\n",
       "      <td>0</td>\n",
       "      <td>0</td>\n",
       "      <td>0</td>\n",
       "      <td>0</td>\n",
       "      <td>0</td>\n",
       "      <td>0</td>\n",
       "      <td>0</td>\n",
       "      <td>0</td>\n",
       "      <td>0</td>\n",
       "      <td>0</td>\n",
       "    </tr>\n",
       "  </tbody>\n",
       "</table>\n",
       "</div>"
      ],
      "text/plain": [
       "   Record_ID  Record_Year  Record_Month  Covid_Deaths  Female  Male  \\\n",
       "0       9096       2020.0           1.0           0.0       0     1   \n",
       "1       9097       2020.0           1.0           0.0       0     1   \n",
       "2       9098       2020.0           1.0           0.0       0     1   \n",
       "3       9099       2020.0           1.0           0.0       0     1   \n",
       "4       9100       2020.0           1.0           0.0       0     1   \n",
       "\n",
       "   0-17 years  1-4 years  15-24 years  18-29 years  25-34 years  30-39 years  \\\n",
       "0           0          0            0            0            0            0   \n",
       "1           1          0            0            0            0            0   \n",
       "2           0          1            0            0            0            0   \n",
       "3           0          0            0            0            0            0   \n",
       "4           0          0            1            0            0            0   \n",
       "\n",
       "   35-44 years  40-49 years  45-54 years  5-14 years  50-64 years  \\\n",
       "0            0            0            0           0            0   \n",
       "1            0            0            0           0            0   \n",
       "2            0            0            0           0            0   \n",
       "3            0            0            0           1            0   \n",
       "4            0            0            0           0            0   \n",
       "\n",
       "   55-64 years  65-74 years  75-84 years  85 years and over  Under 1 year  \\\n",
       "0            0            0            0                  0             1   \n",
       "1            0            0            0                  0             0   \n",
       "2            0            0            0                  0             0   \n",
       "3            0            0            0                  0             0   \n",
       "4            0            0            0                  0             0   \n",
       "\n",
       "   Alabama  Alaska  Arizona  Arkansas  California  Colorado  Connecticut  \\\n",
       "0        1       0        0         0           0         0            0   \n",
       "1        1       0        0         0           0         0            0   \n",
       "2        1       0        0         0           0         0            0   \n",
       "3        1       0        0         0           0         0            0   \n",
       "4        1       0        0         0           0         0            0   \n",
       "\n",
       "   Delaware  District of Columbia  Florida  Georgia  Hawaii  Idaho  Illinois  \\\n",
       "0         0                     0        0        0       0      0         0   \n",
       "1         0                     0        0        0       0      0         0   \n",
       "2         0                     0        0        0       0      0         0   \n",
       "3         0                     0        0        0       0      0         0   \n",
       "4         0                     0        0        0       0      0         0   \n",
       "\n",
       "   Indiana  Iowa  Kansas  Kentucky  Louisiana  Maine  Maryland  Massachusetts  \\\n",
       "0        0     0       0         0          0      0         0              0   \n",
       "1        0     0       0         0          0      0         0              0   \n",
       "2        0     0       0         0          0      0         0              0   \n",
       "3        0     0       0         0          0      0         0              0   \n",
       "4        0     0       0         0          0      0         0              0   \n",
       "\n",
       "   Michigan  Minnesota  Mississippi  Missouri  Montana  Nebraska  Nevada  \\\n",
       "0         0          0            0         0        0         0       0   \n",
       "1         0          0            0         0        0         0       0   \n",
       "2         0          0            0         0        0         0       0   \n",
       "3         0          0            0         0        0         0       0   \n",
       "4         0          0            0         0        0         0       0   \n",
       "\n",
       "   New Hampshire  New Jersey  New Mexico  New York  New York City  \\\n",
       "0              0           0           0         0              0   \n",
       "1              0           0           0         0              0   \n",
       "2              0           0           0         0              0   \n",
       "3              0           0           0         0              0   \n",
       "4              0           0           0         0              0   \n",
       "\n",
       "   North Carolina  North Dakota  Ohio  Oklahoma  Oregon  Pennsylvania  \\\n",
       "0               0             0     0         0       0             0   \n",
       "1               0             0     0         0       0             0   \n",
       "2               0             0     0         0       0             0   \n",
       "3               0             0     0         0       0             0   \n",
       "4               0             0     0         0       0             0   \n",
       "\n",
       "   Puerto Rico  Rhode Island  South Carolina  South Dakota  Tennessee  Texas  \\\n",
       "0            0             0               0             0          0      0   \n",
       "1            0             0               0             0          0      0   \n",
       "2            0             0               0             0          0      0   \n",
       "3            0             0               0             0          0      0   \n",
       "4            0             0               0             0          0      0   \n",
       "\n",
       "   Utah  Vermont  Virginia  Washington  West Virginia  Wisconsin  Wyoming  \n",
       "0     0        0         0           0              0          0        0  \n",
       "1     0        0         0           0              0          0        0  \n",
       "2     0        0         0           0              0          0        0  \n",
       "3     0        0         0           0              0          0        0  \n",
       "4     0        0         0           0              0          0        0  "
      ]
     },
     "execution_count": 10,
     "metadata": {},
     "output_type": "execute_result"
    }
   ],
   "source": [
    "# As we are only focusing on Covid Deaths, so droping other death rates\n",
    "drop_list_new = ['Total_Deaths', 'Pneumonia_Deaths', 'Pneumonia_Covid_Deaths', 'Influenza_Deaths', 'Pneumonia_Influenza_Covid_Deaths']\n",
    "data_modified = data_modified.drop(drop_list_new, axis=1)\n",
    "data_modified.head()"
   ]
  },
  {
   "cell_type": "code",
   "execution_count": 11,
   "metadata": {},
   "outputs": [
    {
     "data": {
      "text/html": [
       "<div>\n",
       "<style scoped>\n",
       "    .dataframe tbody tr th:only-of-type {\n",
       "        vertical-align: middle;\n",
       "    }\n",
       "\n",
       "    .dataframe tbody tr th {\n",
       "        vertical-align: top;\n",
       "    }\n",
       "\n",
       "    .dataframe thead th {\n",
       "        text-align: right;\n",
       "    }\n",
       "</style>\n",
       "<table border=\"1\" class=\"dataframe\">\n",
       "  <thead>\n",
       "    <tr style=\"text-align: right;\">\n",
       "      <th></th>\n",
       "      <th>Record_ID</th>\n",
       "      <th>Record_Year</th>\n",
       "      <th>Record_Month</th>\n",
       "      <th>Covid_Deaths</th>\n",
       "      <th>Female</th>\n",
       "      <th>Male</th>\n",
       "      <th>0-17 years</th>\n",
       "      <th>1-4 years</th>\n",
       "      <th>15-24 years</th>\n",
       "      <th>18-29 years</th>\n",
       "      <th>25-34 years</th>\n",
       "      <th>30-39 years</th>\n",
       "      <th>35-44 years</th>\n",
       "      <th>40-49 years</th>\n",
       "      <th>45-54 years</th>\n",
       "      <th>5-14 years</th>\n",
       "      <th>50-64 years</th>\n",
       "      <th>55-64 years</th>\n",
       "      <th>65-74 years</th>\n",
       "      <th>75-84 years</th>\n",
       "      <th>85 years and over</th>\n",
       "      <th>Under 1 year</th>\n",
       "      <th>Alabama</th>\n",
       "      <th>Alaska</th>\n",
       "      <th>Arizona</th>\n",
       "      <th>Arkansas</th>\n",
       "      <th>California</th>\n",
       "      <th>Colorado</th>\n",
       "      <th>Connecticut</th>\n",
       "      <th>Delaware</th>\n",
       "      <th>District of Columbia</th>\n",
       "      <th>Florida</th>\n",
       "      <th>Georgia</th>\n",
       "      <th>Hawaii</th>\n",
       "      <th>Idaho</th>\n",
       "      <th>Illinois</th>\n",
       "      <th>Indiana</th>\n",
       "      <th>Iowa</th>\n",
       "      <th>Kansas</th>\n",
       "      <th>Kentucky</th>\n",
       "      <th>Louisiana</th>\n",
       "      <th>Maine</th>\n",
       "      <th>Maryland</th>\n",
       "      <th>Massachusetts</th>\n",
       "      <th>Michigan</th>\n",
       "      <th>Minnesota</th>\n",
       "      <th>Mississippi</th>\n",
       "      <th>Missouri</th>\n",
       "      <th>Montana</th>\n",
       "      <th>Nebraska</th>\n",
       "      <th>Nevada</th>\n",
       "      <th>New Hampshire</th>\n",
       "      <th>New Jersey</th>\n",
       "      <th>New Mexico</th>\n",
       "      <th>New York</th>\n",
       "      <th>New York City</th>\n",
       "      <th>North Carolina</th>\n",
       "      <th>North Dakota</th>\n",
       "      <th>Ohio</th>\n",
       "      <th>Oklahoma</th>\n",
       "      <th>Oregon</th>\n",
       "      <th>Pennsylvania</th>\n",
       "      <th>Puerto Rico</th>\n",
       "      <th>Rhode Island</th>\n",
       "      <th>South Carolina</th>\n",
       "      <th>South Dakota</th>\n",
       "      <th>Tennessee</th>\n",
       "      <th>Texas</th>\n",
       "      <th>Utah</th>\n",
       "      <th>Vermont</th>\n",
       "      <th>Virginia</th>\n",
       "      <th>Washington</th>\n",
       "      <th>West Virginia</th>\n",
       "      <th>Wisconsin</th>\n",
       "      <th>Wyoming</th>\n",
       "    </tr>\n",
       "  </thead>\n",
       "  <tbody>\n",
       "    <tr>\n",
       "      <th>0</th>\n",
       "      <td>9096</td>\n",
       "      <td>2020.0</td>\n",
       "      <td>1.0</td>\n",
       "      <td>0.0</td>\n",
       "      <td>0</td>\n",
       "      <td>1</td>\n",
       "      <td>0</td>\n",
       "      <td>0</td>\n",
       "      <td>0</td>\n",
       "      <td>0</td>\n",
       "      <td>0</td>\n",
       "      <td>0</td>\n",
       "      <td>0</td>\n",
       "      <td>0</td>\n",
       "      <td>0</td>\n",
       "      <td>0</td>\n",
       "      <td>0</td>\n",
       "      <td>0</td>\n",
       "      <td>0</td>\n",
       "      <td>0</td>\n",
       "      <td>0</td>\n",
       "      <td>1</td>\n",
       "      <td>1</td>\n",
       "      <td>0</td>\n",
       "      <td>0</td>\n",
       "      <td>0</td>\n",
       "      <td>0</td>\n",
       "      <td>0</td>\n",
       "      <td>0</td>\n",
       "      <td>0</td>\n",
       "      <td>0</td>\n",
       "      <td>0</td>\n",
       "      <td>0</td>\n",
       "      <td>0</td>\n",
       "      <td>0</td>\n",
       "      <td>0</td>\n",
       "      <td>0</td>\n",
       "      <td>0</td>\n",
       "      <td>0</td>\n",
       "      <td>0</td>\n",
       "      <td>0</td>\n",
       "      <td>0</td>\n",
       "      <td>0</td>\n",
       "      <td>0</td>\n",
       "      <td>0</td>\n",
       "      <td>0</td>\n",
       "      <td>0</td>\n",
       "      <td>0</td>\n",
       "      <td>0</td>\n",
       "      <td>0</td>\n",
       "      <td>0</td>\n",
       "      <td>0</td>\n",
       "      <td>0</td>\n",
       "      <td>0</td>\n",
       "      <td>0</td>\n",
       "      <td>0</td>\n",
       "      <td>0</td>\n",
       "      <td>0</td>\n",
       "      <td>0</td>\n",
       "      <td>0</td>\n",
       "      <td>0</td>\n",
       "      <td>0</td>\n",
       "      <td>0</td>\n",
       "      <td>0</td>\n",
       "      <td>0</td>\n",
       "      <td>0</td>\n",
       "      <td>0</td>\n",
       "      <td>0</td>\n",
       "      <td>0</td>\n",
       "      <td>0</td>\n",
       "      <td>0</td>\n",
       "      <td>0</td>\n",
       "      <td>0</td>\n",
       "      <td>0</td>\n",
       "      <td>0</td>\n",
       "    </tr>\n",
       "    <tr>\n",
       "      <th>1</th>\n",
       "      <td>9097</td>\n",
       "      <td>2020.0</td>\n",
       "      <td>1.0</td>\n",
       "      <td>0.0</td>\n",
       "      <td>0</td>\n",
       "      <td>1</td>\n",
       "      <td>1</td>\n",
       "      <td>0</td>\n",
       "      <td>0</td>\n",
       "      <td>0</td>\n",
       "      <td>0</td>\n",
       "      <td>0</td>\n",
       "      <td>0</td>\n",
       "      <td>0</td>\n",
       "      <td>0</td>\n",
       "      <td>0</td>\n",
       "      <td>0</td>\n",
       "      <td>0</td>\n",
       "      <td>0</td>\n",
       "      <td>0</td>\n",
       "      <td>0</td>\n",
       "      <td>0</td>\n",
       "      <td>1</td>\n",
       "      <td>0</td>\n",
       "      <td>0</td>\n",
       "      <td>0</td>\n",
       "      <td>0</td>\n",
       "      <td>0</td>\n",
       "      <td>0</td>\n",
       "      <td>0</td>\n",
       "      <td>0</td>\n",
       "      <td>0</td>\n",
       "      <td>0</td>\n",
       "      <td>0</td>\n",
       "      <td>0</td>\n",
       "      <td>0</td>\n",
       "      <td>0</td>\n",
       "      <td>0</td>\n",
       "      <td>0</td>\n",
       "      <td>0</td>\n",
       "      <td>0</td>\n",
       "      <td>0</td>\n",
       "      <td>0</td>\n",
       "      <td>0</td>\n",
       "      <td>0</td>\n",
       "      <td>0</td>\n",
       "      <td>0</td>\n",
       "      <td>0</td>\n",
       "      <td>0</td>\n",
       "      <td>0</td>\n",
       "      <td>0</td>\n",
       "      <td>0</td>\n",
       "      <td>0</td>\n",
       "      <td>0</td>\n",
       "      <td>0</td>\n",
       "      <td>0</td>\n",
       "      <td>0</td>\n",
       "      <td>0</td>\n",
       "      <td>0</td>\n",
       "      <td>0</td>\n",
       "      <td>0</td>\n",
       "      <td>0</td>\n",
       "      <td>0</td>\n",
       "      <td>0</td>\n",
       "      <td>0</td>\n",
       "      <td>0</td>\n",
       "      <td>0</td>\n",
       "      <td>0</td>\n",
       "      <td>0</td>\n",
       "      <td>0</td>\n",
       "      <td>0</td>\n",
       "      <td>0</td>\n",
       "      <td>0</td>\n",
       "      <td>0</td>\n",
       "      <td>0</td>\n",
       "    </tr>\n",
       "    <tr>\n",
       "      <th>2</th>\n",
       "      <td>9098</td>\n",
       "      <td>2020.0</td>\n",
       "      <td>1.0</td>\n",
       "      <td>0.0</td>\n",
       "      <td>0</td>\n",
       "      <td>1</td>\n",
       "      <td>0</td>\n",
       "      <td>1</td>\n",
       "      <td>0</td>\n",
       "      <td>0</td>\n",
       "      <td>0</td>\n",
       "      <td>0</td>\n",
       "      <td>0</td>\n",
       "      <td>0</td>\n",
       "      <td>0</td>\n",
       "      <td>0</td>\n",
       "      <td>0</td>\n",
       "      <td>0</td>\n",
       "      <td>0</td>\n",
       "      <td>0</td>\n",
       "      <td>0</td>\n",
       "      <td>0</td>\n",
       "      <td>1</td>\n",
       "      <td>0</td>\n",
       "      <td>0</td>\n",
       "      <td>0</td>\n",
       "      <td>0</td>\n",
       "      <td>0</td>\n",
       "      <td>0</td>\n",
       "      <td>0</td>\n",
       "      <td>0</td>\n",
       "      <td>0</td>\n",
       "      <td>0</td>\n",
       "      <td>0</td>\n",
       "      <td>0</td>\n",
       "      <td>0</td>\n",
       "      <td>0</td>\n",
       "      <td>0</td>\n",
       "      <td>0</td>\n",
       "      <td>0</td>\n",
       "      <td>0</td>\n",
       "      <td>0</td>\n",
       "      <td>0</td>\n",
       "      <td>0</td>\n",
       "      <td>0</td>\n",
       "      <td>0</td>\n",
       "      <td>0</td>\n",
       "      <td>0</td>\n",
       "      <td>0</td>\n",
       "      <td>0</td>\n",
       "      <td>0</td>\n",
       "      <td>0</td>\n",
       "      <td>0</td>\n",
       "      <td>0</td>\n",
       "      <td>0</td>\n",
       "      <td>0</td>\n",
       "      <td>0</td>\n",
       "      <td>0</td>\n",
       "      <td>0</td>\n",
       "      <td>0</td>\n",
       "      <td>0</td>\n",
       "      <td>0</td>\n",
       "      <td>0</td>\n",
       "      <td>0</td>\n",
       "      <td>0</td>\n",
       "      <td>0</td>\n",
       "      <td>0</td>\n",
       "      <td>0</td>\n",
       "      <td>0</td>\n",
       "      <td>0</td>\n",
       "      <td>0</td>\n",
       "      <td>0</td>\n",
       "      <td>0</td>\n",
       "      <td>0</td>\n",
       "      <td>0</td>\n",
       "    </tr>\n",
       "    <tr>\n",
       "      <th>3</th>\n",
       "      <td>9099</td>\n",
       "      <td>2020.0</td>\n",
       "      <td>1.0</td>\n",
       "      <td>0.0</td>\n",
       "      <td>0</td>\n",
       "      <td>1</td>\n",
       "      <td>0</td>\n",
       "      <td>0</td>\n",
       "      <td>0</td>\n",
       "      <td>0</td>\n",
       "      <td>0</td>\n",
       "      <td>0</td>\n",
       "      <td>0</td>\n",
       "      <td>0</td>\n",
       "      <td>0</td>\n",
       "      <td>1</td>\n",
       "      <td>0</td>\n",
       "      <td>0</td>\n",
       "      <td>0</td>\n",
       "      <td>0</td>\n",
       "      <td>0</td>\n",
       "      <td>0</td>\n",
       "      <td>1</td>\n",
       "      <td>0</td>\n",
       "      <td>0</td>\n",
       "      <td>0</td>\n",
       "      <td>0</td>\n",
       "      <td>0</td>\n",
       "      <td>0</td>\n",
       "      <td>0</td>\n",
       "      <td>0</td>\n",
       "      <td>0</td>\n",
       "      <td>0</td>\n",
       "      <td>0</td>\n",
       "      <td>0</td>\n",
       "      <td>0</td>\n",
       "      <td>0</td>\n",
       "      <td>0</td>\n",
       "      <td>0</td>\n",
       "      <td>0</td>\n",
       "      <td>0</td>\n",
       "      <td>0</td>\n",
       "      <td>0</td>\n",
       "      <td>0</td>\n",
       "      <td>0</td>\n",
       "      <td>0</td>\n",
       "      <td>0</td>\n",
       "      <td>0</td>\n",
       "      <td>0</td>\n",
       "      <td>0</td>\n",
       "      <td>0</td>\n",
       "      <td>0</td>\n",
       "      <td>0</td>\n",
       "      <td>0</td>\n",
       "      <td>0</td>\n",
       "      <td>0</td>\n",
       "      <td>0</td>\n",
       "      <td>0</td>\n",
       "      <td>0</td>\n",
       "      <td>0</td>\n",
       "      <td>0</td>\n",
       "      <td>0</td>\n",
       "      <td>0</td>\n",
       "      <td>0</td>\n",
       "      <td>0</td>\n",
       "      <td>0</td>\n",
       "      <td>0</td>\n",
       "      <td>0</td>\n",
       "      <td>0</td>\n",
       "      <td>0</td>\n",
       "      <td>0</td>\n",
       "      <td>0</td>\n",
       "      <td>0</td>\n",
       "      <td>0</td>\n",
       "      <td>0</td>\n",
       "    </tr>\n",
       "    <tr>\n",
       "      <th>4</th>\n",
       "      <td>9100</td>\n",
       "      <td>2020.0</td>\n",
       "      <td>1.0</td>\n",
       "      <td>0.0</td>\n",
       "      <td>0</td>\n",
       "      <td>1</td>\n",
       "      <td>0</td>\n",
       "      <td>0</td>\n",
       "      <td>1</td>\n",
       "      <td>0</td>\n",
       "      <td>0</td>\n",
       "      <td>0</td>\n",
       "      <td>0</td>\n",
       "      <td>0</td>\n",
       "      <td>0</td>\n",
       "      <td>0</td>\n",
       "      <td>0</td>\n",
       "      <td>0</td>\n",
       "      <td>0</td>\n",
       "      <td>0</td>\n",
       "      <td>0</td>\n",
       "      <td>0</td>\n",
       "      <td>1</td>\n",
       "      <td>0</td>\n",
       "      <td>0</td>\n",
       "      <td>0</td>\n",
       "      <td>0</td>\n",
       "      <td>0</td>\n",
       "      <td>0</td>\n",
       "      <td>0</td>\n",
       "      <td>0</td>\n",
       "      <td>0</td>\n",
       "      <td>0</td>\n",
       "      <td>0</td>\n",
       "      <td>0</td>\n",
       "      <td>0</td>\n",
       "      <td>0</td>\n",
       "      <td>0</td>\n",
       "      <td>0</td>\n",
       "      <td>0</td>\n",
       "      <td>0</td>\n",
       "      <td>0</td>\n",
       "      <td>0</td>\n",
       "      <td>0</td>\n",
       "      <td>0</td>\n",
       "      <td>0</td>\n",
       "      <td>0</td>\n",
       "      <td>0</td>\n",
       "      <td>0</td>\n",
       "      <td>0</td>\n",
       "      <td>0</td>\n",
       "      <td>0</td>\n",
       "      <td>0</td>\n",
       "      <td>0</td>\n",
       "      <td>0</td>\n",
       "      <td>0</td>\n",
       "      <td>0</td>\n",
       "      <td>0</td>\n",
       "      <td>0</td>\n",
       "      <td>0</td>\n",
       "      <td>0</td>\n",
       "      <td>0</td>\n",
       "      <td>0</td>\n",
       "      <td>0</td>\n",
       "      <td>0</td>\n",
       "      <td>0</td>\n",
       "      <td>0</td>\n",
       "      <td>0</td>\n",
       "      <td>0</td>\n",
       "      <td>0</td>\n",
       "      <td>0</td>\n",
       "      <td>0</td>\n",
       "      <td>0</td>\n",
       "      <td>0</td>\n",
       "      <td>0</td>\n",
       "    </tr>\n",
       "  </tbody>\n",
       "</table>\n",
       "</div>"
      ],
      "text/plain": [
       "   Record_ID  Record_Year  Record_Month  Covid_Deaths  Female  Male  \\\n",
       "0       9096       2020.0           1.0           0.0       0     1   \n",
       "1       9097       2020.0           1.0           0.0       0     1   \n",
       "2       9098       2020.0           1.0           0.0       0     1   \n",
       "3       9099       2020.0           1.0           0.0       0     1   \n",
       "4       9100       2020.0           1.0           0.0       0     1   \n",
       "\n",
       "   0-17 years  1-4 years  15-24 years  18-29 years  25-34 years  30-39 years  \\\n",
       "0           0          0            0            0            0            0   \n",
       "1           1          0            0            0            0            0   \n",
       "2           0          1            0            0            0            0   \n",
       "3           0          0            0            0            0            0   \n",
       "4           0          0            1            0            0            0   \n",
       "\n",
       "   35-44 years  40-49 years  45-54 years  5-14 years  50-64 years  \\\n",
       "0            0            0            0           0            0   \n",
       "1            0            0            0           0            0   \n",
       "2            0            0            0           0            0   \n",
       "3            0            0            0           1            0   \n",
       "4            0            0            0           0            0   \n",
       "\n",
       "   55-64 years  65-74 years  75-84 years  85 years and over  Under 1 year  \\\n",
       "0            0            0            0                  0             1   \n",
       "1            0            0            0                  0             0   \n",
       "2            0            0            0                  0             0   \n",
       "3            0            0            0                  0             0   \n",
       "4            0            0            0                  0             0   \n",
       "\n",
       "   Alabama  Alaska  Arizona  Arkansas  California  Colorado  Connecticut  \\\n",
       "0        1       0        0         0           0         0            0   \n",
       "1        1       0        0         0           0         0            0   \n",
       "2        1       0        0         0           0         0            0   \n",
       "3        1       0        0         0           0         0            0   \n",
       "4        1       0        0         0           0         0            0   \n",
       "\n",
       "   Delaware  District of Columbia  Florida  Georgia  Hawaii  Idaho  Illinois  \\\n",
       "0         0                     0        0        0       0      0         0   \n",
       "1         0                     0        0        0       0      0         0   \n",
       "2         0                     0        0        0       0      0         0   \n",
       "3         0                     0        0        0       0      0         0   \n",
       "4         0                     0        0        0       0      0         0   \n",
       "\n",
       "   Indiana  Iowa  Kansas  Kentucky  Louisiana  Maine  Maryland  Massachusetts  \\\n",
       "0        0     0       0         0          0      0         0              0   \n",
       "1        0     0       0         0          0      0         0              0   \n",
       "2        0     0       0         0          0      0         0              0   \n",
       "3        0     0       0         0          0      0         0              0   \n",
       "4        0     0       0         0          0      0         0              0   \n",
       "\n",
       "   Michigan  Minnesota  Mississippi  Missouri  Montana  Nebraska  Nevada  \\\n",
       "0         0          0            0         0        0         0       0   \n",
       "1         0          0            0         0        0         0       0   \n",
       "2         0          0            0         0        0         0       0   \n",
       "3         0          0            0         0        0         0       0   \n",
       "4         0          0            0         0        0         0       0   \n",
       "\n",
       "   New Hampshire  New Jersey  New Mexico  New York  New York City  \\\n",
       "0              0           0           0         0              0   \n",
       "1              0           0           0         0              0   \n",
       "2              0           0           0         0              0   \n",
       "3              0           0           0         0              0   \n",
       "4              0           0           0         0              0   \n",
       "\n",
       "   North Carolina  North Dakota  Ohio  Oklahoma  Oregon  Pennsylvania  \\\n",
       "0               0             0     0         0       0             0   \n",
       "1               0             0     0         0       0             0   \n",
       "2               0             0     0         0       0             0   \n",
       "3               0             0     0         0       0             0   \n",
       "4               0             0     0         0       0             0   \n",
       "\n",
       "   Puerto Rico  Rhode Island  South Carolina  South Dakota  Tennessee  Texas  \\\n",
       "0            0             0               0             0          0      0   \n",
       "1            0             0               0             0          0      0   \n",
       "2            0             0               0             0          0      0   \n",
       "3            0             0               0             0          0      0   \n",
       "4            0             0               0             0          0      0   \n",
       "\n",
       "   Utah  Vermont  Virginia  Washington  West Virginia  Wisconsin  Wyoming  \n",
       "0     0        0         0           0              0          0        0  \n",
       "1     0        0         0           0              0          0        0  \n",
       "2     0        0         0           0              0          0        0  \n",
       "3     0        0         0           0              0          0        0  \n",
       "4     0        0         0           0              0          0        0  "
      ]
     },
     "execution_count": 11,
     "metadata": {},
     "output_type": "execute_result"
    }
   ],
   "source": [
    "# Copy the cleaned and handled data to new dataset\n",
    "cleaned_dataset=data_modified\n",
    "cleaned_dataset.head()"
   ]
  },
  {
   "cell_type": "code",
   "execution_count": 12,
   "metadata": {},
   "outputs": [
    {
     "data": {
      "text/plain": [
       "array([[-1.73129056, -0.57735027, -1.28571429, ..., -0.13867505,\n",
       "        -0.13867505, -0.13867505],\n",
       "       [-1.73121046, -0.57735027, -1.28571429, ..., -0.13867505,\n",
       "        -0.13867505, -0.13867505],\n",
       "       [-1.73113036, -0.57735027, -1.28571429, ..., -0.13867505,\n",
       "        -0.13867505, -0.13867505],\n",
       "       ...,\n",
       "       [ 1.73113036,  1.73205081, -0.42857143, ..., -0.13867505,\n",
       "        -0.13867505, -0.13867505],\n",
       "       [ 1.73121046,  1.73205081, -0.42857143, ..., -0.13867505,\n",
       "        -0.13867505, -0.13867505],\n",
       "       [ 1.73129056,  1.73205081, -0.42857143, ..., -0.13867505,\n",
       "        -0.13867505, -0.13867505]])"
      ]
     },
     "execution_count": 12,
     "metadata": {},
     "output_type": "execute_result"
    }
   ],
   "source": [
    "# Standardize data\n",
    "from sklearn.preprocessing import StandardScaler, normalize\n",
    "\n",
    "scaler = StandardScaler() \n",
    "scaled_df = scaler.fit_transform(cleaned_dataset) \n",
    "  \n",
    "scaled_df"
   ]
  },
  {
   "cell_type": "code",
   "execution_count": 13,
   "metadata": {},
   "outputs": [
    {
     "data": {
      "text/html": [
       "<div>\n",
       "<style scoped>\n",
       "    .dataframe tbody tr th:only-of-type {\n",
       "        vertical-align: middle;\n",
       "    }\n",
       "\n",
       "    .dataframe tbody tr th {\n",
       "        vertical-align: top;\n",
       "    }\n",
       "\n",
       "    .dataframe thead th {\n",
       "        text-align: right;\n",
       "    }\n",
       "</style>\n",
       "<table border=\"1\" class=\"dataframe\">\n",
       "  <thead>\n",
       "    <tr style=\"text-align: right;\">\n",
       "      <th></th>\n",
       "      <th>0</th>\n",
       "      <th>1</th>\n",
       "      <th>2</th>\n",
       "      <th>3</th>\n",
       "      <th>4</th>\n",
       "      <th>5</th>\n",
       "      <th>6</th>\n",
       "      <th>7</th>\n",
       "      <th>8</th>\n",
       "      <th>9</th>\n",
       "      <th>10</th>\n",
       "      <th>11</th>\n",
       "      <th>12</th>\n",
       "      <th>13</th>\n",
       "      <th>14</th>\n",
       "      <th>15</th>\n",
       "      <th>16</th>\n",
       "      <th>17</th>\n",
       "      <th>18</th>\n",
       "      <th>19</th>\n",
       "      <th>20</th>\n",
       "      <th>21</th>\n",
       "      <th>22</th>\n",
       "      <th>23</th>\n",
       "      <th>24</th>\n",
       "      <th>25</th>\n",
       "      <th>26</th>\n",
       "      <th>27</th>\n",
       "      <th>28</th>\n",
       "      <th>29</th>\n",
       "      <th>30</th>\n",
       "      <th>31</th>\n",
       "      <th>32</th>\n",
       "      <th>33</th>\n",
       "      <th>34</th>\n",
       "      <th>35</th>\n",
       "      <th>36</th>\n",
       "      <th>37</th>\n",
       "      <th>38</th>\n",
       "      <th>39</th>\n",
       "      <th>40</th>\n",
       "      <th>41</th>\n",
       "      <th>42</th>\n",
       "      <th>43</th>\n",
       "      <th>44</th>\n",
       "      <th>45</th>\n",
       "      <th>46</th>\n",
       "      <th>47</th>\n",
       "      <th>48</th>\n",
       "      <th>49</th>\n",
       "      <th>50</th>\n",
       "      <th>51</th>\n",
       "      <th>52</th>\n",
       "      <th>53</th>\n",
       "      <th>54</th>\n",
       "      <th>55</th>\n",
       "      <th>56</th>\n",
       "      <th>57</th>\n",
       "      <th>58</th>\n",
       "      <th>59</th>\n",
       "      <th>60</th>\n",
       "      <th>61</th>\n",
       "      <th>62</th>\n",
       "      <th>63</th>\n",
       "      <th>64</th>\n",
       "      <th>65</th>\n",
       "      <th>66</th>\n",
       "      <th>67</th>\n",
       "      <th>68</th>\n",
       "      <th>69</th>\n",
       "      <th>70</th>\n",
       "      <th>71</th>\n",
       "      <th>72</th>\n",
       "      <th>73</th>\n",
       "      <th>74</th>\n",
       "    </tr>\n",
       "  </thead>\n",
       "  <tbody>\n",
       "    <tr>\n",
       "      <th>0</th>\n",
       "      <td>-0.198543</td>\n",
       "      <td>-0.066210</td>\n",
       "      <td>-0.147445</td>\n",
       "      <td>-0.026678</td>\n",
       "      <td>-0.114679</td>\n",
       "      <td>0.114679</td>\n",
       "      <td>-0.029610</td>\n",
       "      <td>-0.029610</td>\n",
       "      <td>-0.029610</td>\n",
       "      <td>-0.02961</td>\n",
       "      <td>-0.02961</td>\n",
       "      <td>-0.02961</td>\n",
       "      <td>-0.02961</td>\n",
       "      <td>-0.02961</td>\n",
       "      <td>-0.02961</td>\n",
       "      <td>-0.029610</td>\n",
       "      <td>-0.029610</td>\n",
       "      <td>-0.029610</td>\n",
       "      <td>-0.029610</td>\n",
       "      <td>-0.029610</td>\n",
       "      <td>-0.029610</td>\n",
       "      <td>0.444151</td>\n",
       "      <td>0.826964</td>\n",
       "      <td>-0.015903</td>\n",
       "      <td>-0.015903</td>\n",
       "      <td>-0.015903</td>\n",
       "      <td>-0.015903</td>\n",
       "      <td>-0.015903</td>\n",
       "      <td>-0.015903</td>\n",
       "      <td>-0.015903</td>\n",
       "      <td>-0.015903</td>\n",
       "      <td>-0.015903</td>\n",
       "      <td>-0.015903</td>\n",
       "      <td>-0.015903</td>\n",
       "      <td>-0.015903</td>\n",
       "      <td>-0.015903</td>\n",
       "      <td>-0.015903</td>\n",
       "      <td>-0.015903</td>\n",
       "      <td>-0.015903</td>\n",
       "      <td>-0.015903</td>\n",
       "      <td>-0.015903</td>\n",
       "      <td>-0.015903</td>\n",
       "      <td>-0.015903</td>\n",
       "      <td>-0.015903</td>\n",
       "      <td>-0.015903</td>\n",
       "      <td>-0.015903</td>\n",
       "      <td>-0.015903</td>\n",
       "      <td>-0.015903</td>\n",
       "      <td>-0.015903</td>\n",
       "      <td>-0.015903</td>\n",
       "      <td>-0.015903</td>\n",
       "      <td>-0.015903</td>\n",
       "      <td>-0.015903</td>\n",
       "      <td>-0.015903</td>\n",
       "      <td>-0.015903</td>\n",
       "      <td>-0.015903</td>\n",
       "      <td>-0.015903</td>\n",
       "      <td>-0.015903</td>\n",
       "      <td>-0.015903</td>\n",
       "      <td>-0.015903</td>\n",
       "      <td>-0.015903</td>\n",
       "      <td>-0.015903</td>\n",
       "      <td>-0.015903</td>\n",
       "      <td>-0.015903</td>\n",
       "      <td>-0.015903</td>\n",
       "      <td>-0.015903</td>\n",
       "      <td>-0.015903</td>\n",
       "      <td>-0.015903</td>\n",
       "      <td>-0.015903</td>\n",
       "      <td>-0.015903</td>\n",
       "      <td>-0.015903</td>\n",
       "      <td>-0.015903</td>\n",
       "      <td>-0.015903</td>\n",
       "      <td>-0.015903</td>\n",
       "      <td>-0.015903</td>\n",
       "    </tr>\n",
       "    <tr>\n",
       "      <th>1</th>\n",
       "      <td>-0.198534</td>\n",
       "      <td>-0.066210</td>\n",
       "      <td>-0.147445</td>\n",
       "      <td>-0.026678</td>\n",
       "      <td>-0.114680</td>\n",
       "      <td>0.114680</td>\n",
       "      <td>0.444152</td>\n",
       "      <td>-0.029610</td>\n",
       "      <td>-0.029610</td>\n",
       "      <td>-0.02961</td>\n",
       "      <td>-0.02961</td>\n",
       "      <td>-0.02961</td>\n",
       "      <td>-0.02961</td>\n",
       "      <td>-0.02961</td>\n",
       "      <td>-0.02961</td>\n",
       "      <td>-0.029610</td>\n",
       "      <td>-0.029610</td>\n",
       "      <td>-0.029610</td>\n",
       "      <td>-0.029610</td>\n",
       "      <td>-0.029610</td>\n",
       "      <td>-0.029610</td>\n",
       "      <td>-0.029610</td>\n",
       "      <td>0.826966</td>\n",
       "      <td>-0.015903</td>\n",
       "      <td>-0.015903</td>\n",
       "      <td>-0.015903</td>\n",
       "      <td>-0.015903</td>\n",
       "      <td>-0.015903</td>\n",
       "      <td>-0.015903</td>\n",
       "      <td>-0.015903</td>\n",
       "      <td>-0.015903</td>\n",
       "      <td>-0.015903</td>\n",
       "      <td>-0.015903</td>\n",
       "      <td>-0.015903</td>\n",
       "      <td>-0.015903</td>\n",
       "      <td>-0.015903</td>\n",
       "      <td>-0.015903</td>\n",
       "      <td>-0.015903</td>\n",
       "      <td>-0.015903</td>\n",
       "      <td>-0.015903</td>\n",
       "      <td>-0.015903</td>\n",
       "      <td>-0.015903</td>\n",
       "      <td>-0.015903</td>\n",
       "      <td>-0.015903</td>\n",
       "      <td>-0.015903</td>\n",
       "      <td>-0.015903</td>\n",
       "      <td>-0.015903</td>\n",
       "      <td>-0.015903</td>\n",
       "      <td>-0.015903</td>\n",
       "      <td>-0.015903</td>\n",
       "      <td>-0.015903</td>\n",
       "      <td>-0.015903</td>\n",
       "      <td>-0.015903</td>\n",
       "      <td>-0.015903</td>\n",
       "      <td>-0.015903</td>\n",
       "      <td>-0.015903</td>\n",
       "      <td>-0.015903</td>\n",
       "      <td>-0.015903</td>\n",
       "      <td>-0.015903</td>\n",
       "      <td>-0.015903</td>\n",
       "      <td>-0.015903</td>\n",
       "      <td>-0.015903</td>\n",
       "      <td>-0.015903</td>\n",
       "      <td>-0.015903</td>\n",
       "      <td>-0.015903</td>\n",
       "      <td>-0.015903</td>\n",
       "      <td>-0.015903</td>\n",
       "      <td>-0.015903</td>\n",
       "      <td>-0.015903</td>\n",
       "      <td>-0.015903</td>\n",
       "      <td>-0.015903</td>\n",
       "      <td>-0.015903</td>\n",
       "      <td>-0.015903</td>\n",
       "      <td>-0.015903</td>\n",
       "      <td>-0.015903</td>\n",
       "    </tr>\n",
       "    <tr>\n",
       "      <th>2</th>\n",
       "      <td>-0.198526</td>\n",
       "      <td>-0.066210</td>\n",
       "      <td>-0.147445</td>\n",
       "      <td>-0.026678</td>\n",
       "      <td>-0.114680</td>\n",
       "      <td>0.114680</td>\n",
       "      <td>-0.029610</td>\n",
       "      <td>0.444153</td>\n",
       "      <td>-0.029610</td>\n",
       "      <td>-0.02961</td>\n",
       "      <td>-0.02961</td>\n",
       "      <td>-0.02961</td>\n",
       "      <td>-0.02961</td>\n",
       "      <td>-0.02961</td>\n",
       "      <td>-0.02961</td>\n",
       "      <td>-0.029610</td>\n",
       "      <td>-0.029610</td>\n",
       "      <td>-0.029610</td>\n",
       "      <td>-0.029610</td>\n",
       "      <td>-0.029610</td>\n",
       "      <td>-0.029610</td>\n",
       "      <td>-0.029610</td>\n",
       "      <td>0.826967</td>\n",
       "      <td>-0.015903</td>\n",
       "      <td>-0.015903</td>\n",
       "      <td>-0.015903</td>\n",
       "      <td>-0.015903</td>\n",
       "      <td>-0.015903</td>\n",
       "      <td>-0.015903</td>\n",
       "      <td>-0.015903</td>\n",
       "      <td>-0.015903</td>\n",
       "      <td>-0.015903</td>\n",
       "      <td>-0.015903</td>\n",
       "      <td>-0.015903</td>\n",
       "      <td>-0.015903</td>\n",
       "      <td>-0.015903</td>\n",
       "      <td>-0.015903</td>\n",
       "      <td>-0.015903</td>\n",
       "      <td>-0.015903</td>\n",
       "      <td>-0.015903</td>\n",
       "      <td>-0.015903</td>\n",
       "      <td>-0.015903</td>\n",
       "      <td>-0.015903</td>\n",
       "      <td>-0.015903</td>\n",
       "      <td>-0.015903</td>\n",
       "      <td>-0.015903</td>\n",
       "      <td>-0.015903</td>\n",
       "      <td>-0.015903</td>\n",
       "      <td>-0.015903</td>\n",
       "      <td>-0.015903</td>\n",
       "      <td>-0.015903</td>\n",
       "      <td>-0.015903</td>\n",
       "      <td>-0.015903</td>\n",
       "      <td>-0.015903</td>\n",
       "      <td>-0.015903</td>\n",
       "      <td>-0.015903</td>\n",
       "      <td>-0.015903</td>\n",
       "      <td>-0.015903</td>\n",
       "      <td>-0.015903</td>\n",
       "      <td>-0.015903</td>\n",
       "      <td>-0.015903</td>\n",
       "      <td>-0.015903</td>\n",
       "      <td>-0.015903</td>\n",
       "      <td>-0.015903</td>\n",
       "      <td>-0.015903</td>\n",
       "      <td>-0.015903</td>\n",
       "      <td>-0.015903</td>\n",
       "      <td>-0.015903</td>\n",
       "      <td>-0.015903</td>\n",
       "      <td>-0.015903</td>\n",
       "      <td>-0.015903</td>\n",
       "      <td>-0.015903</td>\n",
       "      <td>-0.015903</td>\n",
       "      <td>-0.015903</td>\n",
       "      <td>-0.015903</td>\n",
       "    </tr>\n",
       "    <tr>\n",
       "      <th>3</th>\n",
       "      <td>-0.198517</td>\n",
       "      <td>-0.066210</td>\n",
       "      <td>-0.147446</td>\n",
       "      <td>-0.026678</td>\n",
       "      <td>-0.114680</td>\n",
       "      <td>0.114680</td>\n",
       "      <td>-0.029610</td>\n",
       "      <td>-0.029610</td>\n",
       "      <td>-0.029610</td>\n",
       "      <td>-0.02961</td>\n",
       "      <td>-0.02961</td>\n",
       "      <td>-0.02961</td>\n",
       "      <td>-0.02961</td>\n",
       "      <td>-0.02961</td>\n",
       "      <td>-0.02961</td>\n",
       "      <td>0.444153</td>\n",
       "      <td>-0.029610</td>\n",
       "      <td>-0.029610</td>\n",
       "      <td>-0.029610</td>\n",
       "      <td>-0.029610</td>\n",
       "      <td>-0.029610</td>\n",
       "      <td>-0.029610</td>\n",
       "      <td>0.826969</td>\n",
       "      <td>-0.015903</td>\n",
       "      <td>-0.015903</td>\n",
       "      <td>-0.015903</td>\n",
       "      <td>-0.015903</td>\n",
       "      <td>-0.015903</td>\n",
       "      <td>-0.015903</td>\n",
       "      <td>-0.015903</td>\n",
       "      <td>-0.015903</td>\n",
       "      <td>-0.015903</td>\n",
       "      <td>-0.015903</td>\n",
       "      <td>-0.015903</td>\n",
       "      <td>-0.015903</td>\n",
       "      <td>-0.015903</td>\n",
       "      <td>-0.015903</td>\n",
       "      <td>-0.015903</td>\n",
       "      <td>-0.015903</td>\n",
       "      <td>-0.015903</td>\n",
       "      <td>-0.015903</td>\n",
       "      <td>-0.015903</td>\n",
       "      <td>-0.015903</td>\n",
       "      <td>-0.015903</td>\n",
       "      <td>-0.015903</td>\n",
       "      <td>-0.015903</td>\n",
       "      <td>-0.015903</td>\n",
       "      <td>-0.015903</td>\n",
       "      <td>-0.015903</td>\n",
       "      <td>-0.015903</td>\n",
       "      <td>-0.015903</td>\n",
       "      <td>-0.015903</td>\n",
       "      <td>-0.015903</td>\n",
       "      <td>-0.015903</td>\n",
       "      <td>-0.015903</td>\n",
       "      <td>-0.015903</td>\n",
       "      <td>-0.015903</td>\n",
       "      <td>-0.015903</td>\n",
       "      <td>-0.015903</td>\n",
       "      <td>-0.015903</td>\n",
       "      <td>-0.015903</td>\n",
       "      <td>-0.015903</td>\n",
       "      <td>-0.015903</td>\n",
       "      <td>-0.015903</td>\n",
       "      <td>-0.015903</td>\n",
       "      <td>-0.015903</td>\n",
       "      <td>-0.015903</td>\n",
       "      <td>-0.015903</td>\n",
       "      <td>-0.015903</td>\n",
       "      <td>-0.015903</td>\n",
       "      <td>-0.015903</td>\n",
       "      <td>-0.015903</td>\n",
       "      <td>-0.015903</td>\n",
       "      <td>-0.015903</td>\n",
       "      <td>-0.015903</td>\n",
       "    </tr>\n",
       "    <tr>\n",
       "      <th>4</th>\n",
       "      <td>-0.198508</td>\n",
       "      <td>-0.066211</td>\n",
       "      <td>-0.147446</td>\n",
       "      <td>-0.026678</td>\n",
       "      <td>-0.114680</td>\n",
       "      <td>0.114680</td>\n",
       "      <td>-0.029610</td>\n",
       "      <td>-0.029610</td>\n",
       "      <td>0.444154</td>\n",
       "      <td>-0.02961</td>\n",
       "      <td>-0.02961</td>\n",
       "      <td>-0.02961</td>\n",
       "      <td>-0.02961</td>\n",
       "      <td>-0.02961</td>\n",
       "      <td>-0.02961</td>\n",
       "      <td>-0.029610</td>\n",
       "      <td>-0.029610</td>\n",
       "      <td>-0.029610</td>\n",
       "      <td>-0.029610</td>\n",
       "      <td>-0.029610</td>\n",
       "      <td>-0.029610</td>\n",
       "      <td>-0.029610</td>\n",
       "      <td>0.826970</td>\n",
       "      <td>-0.015903</td>\n",
       "      <td>-0.015903</td>\n",
       "      <td>-0.015903</td>\n",
       "      <td>-0.015903</td>\n",
       "      <td>-0.015903</td>\n",
       "      <td>-0.015903</td>\n",
       "      <td>-0.015903</td>\n",
       "      <td>-0.015903</td>\n",
       "      <td>-0.015903</td>\n",
       "      <td>-0.015903</td>\n",
       "      <td>-0.015903</td>\n",
       "      <td>-0.015903</td>\n",
       "      <td>-0.015903</td>\n",
       "      <td>-0.015903</td>\n",
       "      <td>-0.015903</td>\n",
       "      <td>-0.015903</td>\n",
       "      <td>-0.015903</td>\n",
       "      <td>-0.015903</td>\n",
       "      <td>-0.015903</td>\n",
       "      <td>-0.015903</td>\n",
       "      <td>-0.015903</td>\n",
       "      <td>-0.015903</td>\n",
       "      <td>-0.015903</td>\n",
       "      <td>-0.015903</td>\n",
       "      <td>-0.015903</td>\n",
       "      <td>-0.015903</td>\n",
       "      <td>-0.015903</td>\n",
       "      <td>-0.015903</td>\n",
       "      <td>-0.015903</td>\n",
       "      <td>-0.015903</td>\n",
       "      <td>-0.015903</td>\n",
       "      <td>-0.015903</td>\n",
       "      <td>-0.015903</td>\n",
       "      <td>-0.015903</td>\n",
       "      <td>-0.015903</td>\n",
       "      <td>-0.015903</td>\n",
       "      <td>-0.015903</td>\n",
       "      <td>-0.015903</td>\n",
       "      <td>-0.015903</td>\n",
       "      <td>-0.015903</td>\n",
       "      <td>-0.015903</td>\n",
       "      <td>-0.015903</td>\n",
       "      <td>-0.015903</td>\n",
       "      <td>-0.015903</td>\n",
       "      <td>-0.015903</td>\n",
       "      <td>-0.015903</td>\n",
       "      <td>-0.015903</td>\n",
       "      <td>-0.015903</td>\n",
       "      <td>-0.015903</td>\n",
       "      <td>-0.015903</td>\n",
       "      <td>-0.015903</td>\n",
       "      <td>-0.015903</td>\n",
       "    </tr>\n",
       "    <tr>\n",
       "      <th>...</th>\n",
       "      <td>...</td>\n",
       "      <td>...</td>\n",
       "      <td>...</td>\n",
       "      <td>...</td>\n",
       "      <td>...</td>\n",
       "      <td>...</td>\n",
       "      <td>...</td>\n",
       "      <td>...</td>\n",
       "      <td>...</td>\n",
       "      <td>...</td>\n",
       "      <td>...</td>\n",
       "      <td>...</td>\n",
       "      <td>...</td>\n",
       "      <td>...</td>\n",
       "      <td>...</td>\n",
       "      <td>...</td>\n",
       "      <td>...</td>\n",
       "      <td>...</td>\n",
       "      <td>...</td>\n",
       "      <td>...</td>\n",
       "      <td>...</td>\n",
       "      <td>...</td>\n",
       "      <td>...</td>\n",
       "      <td>...</td>\n",
       "      <td>...</td>\n",
       "      <td>...</td>\n",
       "      <td>...</td>\n",
       "      <td>...</td>\n",
       "      <td>...</td>\n",
       "      <td>...</td>\n",
       "      <td>...</td>\n",
       "      <td>...</td>\n",
       "      <td>...</td>\n",
       "      <td>...</td>\n",
       "      <td>...</td>\n",
       "      <td>...</td>\n",
       "      <td>...</td>\n",
       "      <td>...</td>\n",
       "      <td>...</td>\n",
       "      <td>...</td>\n",
       "      <td>...</td>\n",
       "      <td>...</td>\n",
       "      <td>...</td>\n",
       "      <td>...</td>\n",
       "      <td>...</td>\n",
       "      <td>...</td>\n",
       "      <td>...</td>\n",
       "      <td>...</td>\n",
       "      <td>...</td>\n",
       "      <td>...</td>\n",
       "      <td>...</td>\n",
       "      <td>...</td>\n",
       "      <td>...</td>\n",
       "      <td>...</td>\n",
       "      <td>...</td>\n",
       "      <td>...</td>\n",
       "      <td>...</td>\n",
       "      <td>...</td>\n",
       "      <td>...</td>\n",
       "      <td>...</td>\n",
       "      <td>...</td>\n",
       "      <td>...</td>\n",
       "      <td>...</td>\n",
       "      <td>...</td>\n",
       "      <td>...</td>\n",
       "      <td>...</td>\n",
       "      <td>...</td>\n",
       "      <td>...</td>\n",
       "      <td>...</td>\n",
       "      <td>...</td>\n",
       "      <td>...</td>\n",
       "      <td>...</td>\n",
       "      <td>...</td>\n",
       "      <td>...</td>\n",
       "      <td>...</td>\n",
       "    </tr>\n",
       "    <tr>\n",
       "      <th>27131</th>\n",
       "      <td>0.196963</td>\n",
       "      <td>0.197086</td>\n",
       "      <td>-0.048766</td>\n",
       "      <td>-0.026470</td>\n",
       "      <td>0.113788</td>\n",
       "      <td>-0.113788</td>\n",
       "      <td>-0.029380</td>\n",
       "      <td>-0.029380</td>\n",
       "      <td>-0.029380</td>\n",
       "      <td>-0.02938</td>\n",
       "      <td>-0.02938</td>\n",
       "      <td>-0.02938</td>\n",
       "      <td>-0.02938</td>\n",
       "      <td>-0.02938</td>\n",
       "      <td>-0.02938</td>\n",
       "      <td>-0.029380</td>\n",
       "      <td>0.440698</td>\n",
       "      <td>-0.029380</td>\n",
       "      <td>-0.029380</td>\n",
       "      <td>-0.029380</td>\n",
       "      <td>-0.029380</td>\n",
       "      <td>-0.029380</td>\n",
       "      <td>-0.015780</td>\n",
       "      <td>-0.015780</td>\n",
       "      <td>-0.015780</td>\n",
       "      <td>-0.015780</td>\n",
       "      <td>-0.015780</td>\n",
       "      <td>-0.015780</td>\n",
       "      <td>-0.015780</td>\n",
       "      <td>-0.015780</td>\n",
       "      <td>-0.015780</td>\n",
       "      <td>-0.015780</td>\n",
       "      <td>-0.015780</td>\n",
       "      <td>-0.015780</td>\n",
       "      <td>-0.015780</td>\n",
       "      <td>-0.015780</td>\n",
       "      <td>-0.015780</td>\n",
       "      <td>-0.015780</td>\n",
       "      <td>-0.015780</td>\n",
       "      <td>-0.015780</td>\n",
       "      <td>-0.015780</td>\n",
       "      <td>-0.015780</td>\n",
       "      <td>-0.015780</td>\n",
       "      <td>-0.015780</td>\n",
       "      <td>-0.015780</td>\n",
       "      <td>-0.015780</td>\n",
       "      <td>-0.015780</td>\n",
       "      <td>-0.015780</td>\n",
       "      <td>-0.015780</td>\n",
       "      <td>-0.015780</td>\n",
       "      <td>-0.015780</td>\n",
       "      <td>-0.015780</td>\n",
       "      <td>-0.015780</td>\n",
       "      <td>-0.015780</td>\n",
       "      <td>-0.015780</td>\n",
       "      <td>-0.015780</td>\n",
       "      <td>-0.015780</td>\n",
       "      <td>-0.015780</td>\n",
       "      <td>-0.015780</td>\n",
       "      <td>-0.015780</td>\n",
       "      <td>-0.015780</td>\n",
       "      <td>-0.015780</td>\n",
       "      <td>0.820535</td>\n",
       "      <td>-0.015780</td>\n",
       "      <td>-0.015780</td>\n",
       "      <td>-0.015780</td>\n",
       "      <td>-0.015780</td>\n",
       "      <td>-0.015780</td>\n",
       "      <td>-0.015780</td>\n",
       "      <td>-0.015780</td>\n",
       "      <td>-0.015780</td>\n",
       "      <td>-0.015780</td>\n",
       "      <td>-0.015780</td>\n",
       "      <td>-0.015780</td>\n",
       "      <td>-0.015780</td>\n",
       "    </tr>\n",
       "    <tr>\n",
       "      <th>27132</th>\n",
       "      <td>0.196972</td>\n",
       "      <td>0.197086</td>\n",
       "      <td>-0.048766</td>\n",
       "      <td>-0.026470</td>\n",
       "      <td>0.113788</td>\n",
       "      <td>-0.113788</td>\n",
       "      <td>-0.029380</td>\n",
       "      <td>-0.029380</td>\n",
       "      <td>-0.029380</td>\n",
       "      <td>-0.02938</td>\n",
       "      <td>-0.02938</td>\n",
       "      <td>-0.02938</td>\n",
       "      <td>-0.02938</td>\n",
       "      <td>-0.02938</td>\n",
       "      <td>-0.02938</td>\n",
       "      <td>-0.029380</td>\n",
       "      <td>-0.029380</td>\n",
       "      <td>0.440697</td>\n",
       "      <td>-0.029380</td>\n",
       "      <td>-0.029380</td>\n",
       "      <td>-0.029380</td>\n",
       "      <td>-0.029380</td>\n",
       "      <td>-0.015779</td>\n",
       "      <td>-0.015779</td>\n",
       "      <td>-0.015779</td>\n",
       "      <td>-0.015779</td>\n",
       "      <td>-0.015779</td>\n",
       "      <td>-0.015779</td>\n",
       "      <td>-0.015779</td>\n",
       "      <td>-0.015779</td>\n",
       "      <td>-0.015779</td>\n",
       "      <td>-0.015779</td>\n",
       "      <td>-0.015779</td>\n",
       "      <td>-0.015779</td>\n",
       "      <td>-0.015779</td>\n",
       "      <td>-0.015779</td>\n",
       "      <td>-0.015779</td>\n",
       "      <td>-0.015779</td>\n",
       "      <td>-0.015779</td>\n",
       "      <td>-0.015779</td>\n",
       "      <td>-0.015779</td>\n",
       "      <td>-0.015779</td>\n",
       "      <td>-0.015779</td>\n",
       "      <td>-0.015779</td>\n",
       "      <td>-0.015779</td>\n",
       "      <td>-0.015779</td>\n",
       "      <td>-0.015779</td>\n",
       "      <td>-0.015779</td>\n",
       "      <td>-0.015779</td>\n",
       "      <td>-0.015779</td>\n",
       "      <td>-0.015779</td>\n",
       "      <td>-0.015779</td>\n",
       "      <td>-0.015779</td>\n",
       "      <td>-0.015779</td>\n",
       "      <td>-0.015779</td>\n",
       "      <td>-0.015779</td>\n",
       "      <td>-0.015779</td>\n",
       "      <td>-0.015779</td>\n",
       "      <td>-0.015779</td>\n",
       "      <td>-0.015779</td>\n",
       "      <td>-0.015779</td>\n",
       "      <td>-0.015779</td>\n",
       "      <td>0.820534</td>\n",
       "      <td>-0.015779</td>\n",
       "      <td>-0.015779</td>\n",
       "      <td>-0.015779</td>\n",
       "      <td>-0.015779</td>\n",
       "      <td>-0.015779</td>\n",
       "      <td>-0.015779</td>\n",
       "      <td>-0.015779</td>\n",
       "      <td>-0.015779</td>\n",
       "      <td>-0.015779</td>\n",
       "      <td>-0.015779</td>\n",
       "      <td>-0.015779</td>\n",
       "      <td>-0.015779</td>\n",
       "    </tr>\n",
       "    <tr>\n",
       "      <th>27133</th>\n",
       "      <td>0.196981</td>\n",
       "      <td>0.197085</td>\n",
       "      <td>-0.048766</td>\n",
       "      <td>-0.026470</td>\n",
       "      <td>0.113787</td>\n",
       "      <td>-0.113787</td>\n",
       "      <td>-0.029380</td>\n",
       "      <td>-0.029380</td>\n",
       "      <td>-0.029380</td>\n",
       "      <td>-0.02938</td>\n",
       "      <td>-0.02938</td>\n",
       "      <td>-0.02938</td>\n",
       "      <td>-0.02938</td>\n",
       "      <td>-0.02938</td>\n",
       "      <td>-0.02938</td>\n",
       "      <td>-0.029380</td>\n",
       "      <td>-0.029380</td>\n",
       "      <td>-0.029380</td>\n",
       "      <td>0.440697</td>\n",
       "      <td>-0.029380</td>\n",
       "      <td>-0.029380</td>\n",
       "      <td>-0.029380</td>\n",
       "      <td>-0.015779</td>\n",
       "      <td>-0.015779</td>\n",
       "      <td>-0.015779</td>\n",
       "      <td>-0.015779</td>\n",
       "      <td>-0.015779</td>\n",
       "      <td>-0.015779</td>\n",
       "      <td>-0.015779</td>\n",
       "      <td>-0.015779</td>\n",
       "      <td>-0.015779</td>\n",
       "      <td>-0.015779</td>\n",
       "      <td>-0.015779</td>\n",
       "      <td>-0.015779</td>\n",
       "      <td>-0.015779</td>\n",
       "      <td>-0.015779</td>\n",
       "      <td>-0.015779</td>\n",
       "      <td>-0.015779</td>\n",
       "      <td>-0.015779</td>\n",
       "      <td>-0.015779</td>\n",
       "      <td>-0.015779</td>\n",
       "      <td>-0.015779</td>\n",
       "      <td>-0.015779</td>\n",
       "      <td>-0.015779</td>\n",
       "      <td>-0.015779</td>\n",
       "      <td>-0.015779</td>\n",
       "      <td>-0.015779</td>\n",
       "      <td>-0.015779</td>\n",
       "      <td>-0.015779</td>\n",
       "      <td>-0.015779</td>\n",
       "      <td>-0.015779</td>\n",
       "      <td>-0.015779</td>\n",
       "      <td>-0.015779</td>\n",
       "      <td>-0.015779</td>\n",
       "      <td>-0.015779</td>\n",
       "      <td>-0.015779</td>\n",
       "      <td>-0.015779</td>\n",
       "      <td>-0.015779</td>\n",
       "      <td>-0.015779</td>\n",
       "      <td>-0.015779</td>\n",
       "      <td>-0.015779</td>\n",
       "      <td>-0.015779</td>\n",
       "      <td>0.820532</td>\n",
       "      <td>-0.015779</td>\n",
       "      <td>-0.015779</td>\n",
       "      <td>-0.015779</td>\n",
       "      <td>-0.015779</td>\n",
       "      <td>-0.015779</td>\n",
       "      <td>-0.015779</td>\n",
       "      <td>-0.015779</td>\n",
       "      <td>-0.015779</td>\n",
       "      <td>-0.015779</td>\n",
       "      <td>-0.015779</td>\n",
       "      <td>-0.015779</td>\n",
       "      <td>-0.015779</td>\n",
       "    </tr>\n",
       "    <tr>\n",
       "      <th>27134</th>\n",
       "      <td>0.196990</td>\n",
       "      <td>0.197085</td>\n",
       "      <td>-0.048766</td>\n",
       "      <td>-0.026470</td>\n",
       "      <td>0.113787</td>\n",
       "      <td>-0.113787</td>\n",
       "      <td>-0.029380</td>\n",
       "      <td>-0.029380</td>\n",
       "      <td>-0.029380</td>\n",
       "      <td>-0.02938</td>\n",
       "      <td>-0.02938</td>\n",
       "      <td>-0.02938</td>\n",
       "      <td>-0.02938</td>\n",
       "      <td>-0.02938</td>\n",
       "      <td>-0.02938</td>\n",
       "      <td>-0.029380</td>\n",
       "      <td>-0.029380</td>\n",
       "      <td>-0.029380</td>\n",
       "      <td>-0.029380</td>\n",
       "      <td>0.440696</td>\n",
       "      <td>-0.029380</td>\n",
       "      <td>-0.029380</td>\n",
       "      <td>-0.015779</td>\n",
       "      <td>-0.015779</td>\n",
       "      <td>-0.015779</td>\n",
       "      <td>-0.015779</td>\n",
       "      <td>-0.015779</td>\n",
       "      <td>-0.015779</td>\n",
       "      <td>-0.015779</td>\n",
       "      <td>-0.015779</td>\n",
       "      <td>-0.015779</td>\n",
       "      <td>-0.015779</td>\n",
       "      <td>-0.015779</td>\n",
       "      <td>-0.015779</td>\n",
       "      <td>-0.015779</td>\n",
       "      <td>-0.015779</td>\n",
       "      <td>-0.015779</td>\n",
       "      <td>-0.015779</td>\n",
       "      <td>-0.015779</td>\n",
       "      <td>-0.015779</td>\n",
       "      <td>-0.015779</td>\n",
       "      <td>-0.015779</td>\n",
       "      <td>-0.015779</td>\n",
       "      <td>-0.015779</td>\n",
       "      <td>-0.015779</td>\n",
       "      <td>-0.015779</td>\n",
       "      <td>-0.015779</td>\n",
       "      <td>-0.015779</td>\n",
       "      <td>-0.015779</td>\n",
       "      <td>-0.015779</td>\n",
       "      <td>-0.015779</td>\n",
       "      <td>-0.015779</td>\n",
       "      <td>-0.015779</td>\n",
       "      <td>-0.015779</td>\n",
       "      <td>-0.015779</td>\n",
       "      <td>-0.015779</td>\n",
       "      <td>-0.015779</td>\n",
       "      <td>-0.015779</td>\n",
       "      <td>-0.015779</td>\n",
       "      <td>-0.015779</td>\n",
       "      <td>-0.015779</td>\n",
       "      <td>-0.015779</td>\n",
       "      <td>0.820531</td>\n",
       "      <td>-0.015779</td>\n",
       "      <td>-0.015779</td>\n",
       "      <td>-0.015779</td>\n",
       "      <td>-0.015779</td>\n",
       "      <td>-0.015779</td>\n",
       "      <td>-0.015779</td>\n",
       "      <td>-0.015779</td>\n",
       "      <td>-0.015779</td>\n",
       "      <td>-0.015779</td>\n",
       "      <td>-0.015779</td>\n",
       "      <td>-0.015779</td>\n",
       "      <td>-0.015779</td>\n",
       "    </tr>\n",
       "    <tr>\n",
       "      <th>27135</th>\n",
       "      <td>0.196998</td>\n",
       "      <td>0.197085</td>\n",
       "      <td>-0.048766</td>\n",
       "      <td>-0.026470</td>\n",
       "      <td>0.113787</td>\n",
       "      <td>-0.113787</td>\n",
       "      <td>-0.029380</td>\n",
       "      <td>-0.029380</td>\n",
       "      <td>-0.029380</td>\n",
       "      <td>-0.02938</td>\n",
       "      <td>-0.02938</td>\n",
       "      <td>-0.02938</td>\n",
       "      <td>-0.02938</td>\n",
       "      <td>-0.02938</td>\n",
       "      <td>-0.02938</td>\n",
       "      <td>-0.029380</td>\n",
       "      <td>-0.029380</td>\n",
       "      <td>-0.029380</td>\n",
       "      <td>-0.029380</td>\n",
       "      <td>-0.029380</td>\n",
       "      <td>0.440695</td>\n",
       "      <td>-0.029380</td>\n",
       "      <td>-0.015779</td>\n",
       "      <td>-0.015779</td>\n",
       "      <td>-0.015779</td>\n",
       "      <td>-0.015779</td>\n",
       "      <td>-0.015779</td>\n",
       "      <td>-0.015779</td>\n",
       "      <td>-0.015779</td>\n",
       "      <td>-0.015779</td>\n",
       "      <td>-0.015779</td>\n",
       "      <td>-0.015779</td>\n",
       "      <td>-0.015779</td>\n",
       "      <td>-0.015779</td>\n",
       "      <td>-0.015779</td>\n",
       "      <td>-0.015779</td>\n",
       "      <td>-0.015779</td>\n",
       "      <td>-0.015779</td>\n",
       "      <td>-0.015779</td>\n",
       "      <td>-0.015779</td>\n",
       "      <td>-0.015779</td>\n",
       "      <td>-0.015779</td>\n",
       "      <td>-0.015779</td>\n",
       "      <td>-0.015779</td>\n",
       "      <td>-0.015779</td>\n",
       "      <td>-0.015779</td>\n",
       "      <td>-0.015779</td>\n",
       "      <td>-0.015779</td>\n",
       "      <td>-0.015779</td>\n",
       "      <td>-0.015779</td>\n",
       "      <td>-0.015779</td>\n",
       "      <td>-0.015779</td>\n",
       "      <td>-0.015779</td>\n",
       "      <td>-0.015779</td>\n",
       "      <td>-0.015779</td>\n",
       "      <td>-0.015779</td>\n",
       "      <td>-0.015779</td>\n",
       "      <td>-0.015779</td>\n",
       "      <td>-0.015779</td>\n",
       "      <td>-0.015779</td>\n",
       "      <td>-0.015779</td>\n",
       "      <td>-0.015779</td>\n",
       "      <td>0.820529</td>\n",
       "      <td>-0.015779</td>\n",
       "      <td>-0.015779</td>\n",
       "      <td>-0.015779</td>\n",
       "      <td>-0.015779</td>\n",
       "      <td>-0.015779</td>\n",
       "      <td>-0.015779</td>\n",
       "      <td>-0.015779</td>\n",
       "      <td>-0.015779</td>\n",
       "      <td>-0.015779</td>\n",
       "      <td>-0.015779</td>\n",
       "      <td>-0.015779</td>\n",
       "      <td>-0.015779</td>\n",
       "    </tr>\n",
       "  </tbody>\n",
       "</table>\n",
       "<p>27136 rows × 75 columns</p>\n",
       "</div>"
      ],
      "text/plain": [
       "             0         1         2         3         4         5         6   \\\n",
       "0     -0.198543 -0.066210 -0.147445 -0.026678 -0.114679  0.114679 -0.029610   \n",
       "1     -0.198534 -0.066210 -0.147445 -0.026678 -0.114680  0.114680  0.444152   \n",
       "2     -0.198526 -0.066210 -0.147445 -0.026678 -0.114680  0.114680 -0.029610   \n",
       "3     -0.198517 -0.066210 -0.147446 -0.026678 -0.114680  0.114680 -0.029610   \n",
       "4     -0.198508 -0.066211 -0.147446 -0.026678 -0.114680  0.114680 -0.029610   \n",
       "...         ...       ...       ...       ...       ...       ...       ...   \n",
       "27131  0.196963  0.197086 -0.048766 -0.026470  0.113788 -0.113788 -0.029380   \n",
       "27132  0.196972  0.197086 -0.048766 -0.026470  0.113788 -0.113788 -0.029380   \n",
       "27133  0.196981  0.197085 -0.048766 -0.026470  0.113787 -0.113787 -0.029380   \n",
       "27134  0.196990  0.197085 -0.048766 -0.026470  0.113787 -0.113787 -0.029380   \n",
       "27135  0.196998  0.197085 -0.048766 -0.026470  0.113787 -0.113787 -0.029380   \n",
       "\n",
       "             7         8        9        10       11       12       13  \\\n",
       "0     -0.029610 -0.029610 -0.02961 -0.02961 -0.02961 -0.02961 -0.02961   \n",
       "1     -0.029610 -0.029610 -0.02961 -0.02961 -0.02961 -0.02961 -0.02961   \n",
       "2      0.444153 -0.029610 -0.02961 -0.02961 -0.02961 -0.02961 -0.02961   \n",
       "3     -0.029610 -0.029610 -0.02961 -0.02961 -0.02961 -0.02961 -0.02961   \n",
       "4     -0.029610  0.444154 -0.02961 -0.02961 -0.02961 -0.02961 -0.02961   \n",
       "...         ...       ...      ...      ...      ...      ...      ...   \n",
       "27131 -0.029380 -0.029380 -0.02938 -0.02938 -0.02938 -0.02938 -0.02938   \n",
       "27132 -0.029380 -0.029380 -0.02938 -0.02938 -0.02938 -0.02938 -0.02938   \n",
       "27133 -0.029380 -0.029380 -0.02938 -0.02938 -0.02938 -0.02938 -0.02938   \n",
       "27134 -0.029380 -0.029380 -0.02938 -0.02938 -0.02938 -0.02938 -0.02938   \n",
       "27135 -0.029380 -0.029380 -0.02938 -0.02938 -0.02938 -0.02938 -0.02938   \n",
       "\n",
       "            14        15        16        17        18        19        20  \\\n",
       "0     -0.02961 -0.029610 -0.029610 -0.029610 -0.029610 -0.029610 -0.029610   \n",
       "1     -0.02961 -0.029610 -0.029610 -0.029610 -0.029610 -0.029610 -0.029610   \n",
       "2     -0.02961 -0.029610 -0.029610 -0.029610 -0.029610 -0.029610 -0.029610   \n",
       "3     -0.02961  0.444153 -0.029610 -0.029610 -0.029610 -0.029610 -0.029610   \n",
       "4     -0.02961 -0.029610 -0.029610 -0.029610 -0.029610 -0.029610 -0.029610   \n",
       "...        ...       ...       ...       ...       ...       ...       ...   \n",
       "27131 -0.02938 -0.029380  0.440698 -0.029380 -0.029380 -0.029380 -0.029380   \n",
       "27132 -0.02938 -0.029380 -0.029380  0.440697 -0.029380 -0.029380 -0.029380   \n",
       "27133 -0.02938 -0.029380 -0.029380 -0.029380  0.440697 -0.029380 -0.029380   \n",
       "27134 -0.02938 -0.029380 -0.029380 -0.029380 -0.029380  0.440696 -0.029380   \n",
       "27135 -0.02938 -0.029380 -0.029380 -0.029380 -0.029380 -0.029380  0.440695   \n",
       "\n",
       "             21        22        23        24        25        26        27  \\\n",
       "0      0.444151  0.826964 -0.015903 -0.015903 -0.015903 -0.015903 -0.015903   \n",
       "1     -0.029610  0.826966 -0.015903 -0.015903 -0.015903 -0.015903 -0.015903   \n",
       "2     -0.029610  0.826967 -0.015903 -0.015903 -0.015903 -0.015903 -0.015903   \n",
       "3     -0.029610  0.826969 -0.015903 -0.015903 -0.015903 -0.015903 -0.015903   \n",
       "4     -0.029610  0.826970 -0.015903 -0.015903 -0.015903 -0.015903 -0.015903   \n",
       "...         ...       ...       ...       ...       ...       ...       ...   \n",
       "27131 -0.029380 -0.015780 -0.015780 -0.015780 -0.015780 -0.015780 -0.015780   \n",
       "27132 -0.029380 -0.015779 -0.015779 -0.015779 -0.015779 -0.015779 -0.015779   \n",
       "27133 -0.029380 -0.015779 -0.015779 -0.015779 -0.015779 -0.015779 -0.015779   \n",
       "27134 -0.029380 -0.015779 -0.015779 -0.015779 -0.015779 -0.015779 -0.015779   \n",
       "27135 -0.029380 -0.015779 -0.015779 -0.015779 -0.015779 -0.015779 -0.015779   \n",
       "\n",
       "             28        29        30        31        32        33        34  \\\n",
       "0     -0.015903 -0.015903 -0.015903 -0.015903 -0.015903 -0.015903 -0.015903   \n",
       "1     -0.015903 -0.015903 -0.015903 -0.015903 -0.015903 -0.015903 -0.015903   \n",
       "2     -0.015903 -0.015903 -0.015903 -0.015903 -0.015903 -0.015903 -0.015903   \n",
       "3     -0.015903 -0.015903 -0.015903 -0.015903 -0.015903 -0.015903 -0.015903   \n",
       "4     -0.015903 -0.015903 -0.015903 -0.015903 -0.015903 -0.015903 -0.015903   \n",
       "...         ...       ...       ...       ...       ...       ...       ...   \n",
       "27131 -0.015780 -0.015780 -0.015780 -0.015780 -0.015780 -0.015780 -0.015780   \n",
       "27132 -0.015779 -0.015779 -0.015779 -0.015779 -0.015779 -0.015779 -0.015779   \n",
       "27133 -0.015779 -0.015779 -0.015779 -0.015779 -0.015779 -0.015779 -0.015779   \n",
       "27134 -0.015779 -0.015779 -0.015779 -0.015779 -0.015779 -0.015779 -0.015779   \n",
       "27135 -0.015779 -0.015779 -0.015779 -0.015779 -0.015779 -0.015779 -0.015779   \n",
       "\n",
       "             35        36        37        38        39        40        41  \\\n",
       "0     -0.015903 -0.015903 -0.015903 -0.015903 -0.015903 -0.015903 -0.015903   \n",
       "1     -0.015903 -0.015903 -0.015903 -0.015903 -0.015903 -0.015903 -0.015903   \n",
       "2     -0.015903 -0.015903 -0.015903 -0.015903 -0.015903 -0.015903 -0.015903   \n",
       "3     -0.015903 -0.015903 -0.015903 -0.015903 -0.015903 -0.015903 -0.015903   \n",
       "4     -0.015903 -0.015903 -0.015903 -0.015903 -0.015903 -0.015903 -0.015903   \n",
       "...         ...       ...       ...       ...       ...       ...       ...   \n",
       "27131 -0.015780 -0.015780 -0.015780 -0.015780 -0.015780 -0.015780 -0.015780   \n",
       "27132 -0.015779 -0.015779 -0.015779 -0.015779 -0.015779 -0.015779 -0.015779   \n",
       "27133 -0.015779 -0.015779 -0.015779 -0.015779 -0.015779 -0.015779 -0.015779   \n",
       "27134 -0.015779 -0.015779 -0.015779 -0.015779 -0.015779 -0.015779 -0.015779   \n",
       "27135 -0.015779 -0.015779 -0.015779 -0.015779 -0.015779 -0.015779 -0.015779   \n",
       "\n",
       "             42        43        44        45        46        47        48  \\\n",
       "0     -0.015903 -0.015903 -0.015903 -0.015903 -0.015903 -0.015903 -0.015903   \n",
       "1     -0.015903 -0.015903 -0.015903 -0.015903 -0.015903 -0.015903 -0.015903   \n",
       "2     -0.015903 -0.015903 -0.015903 -0.015903 -0.015903 -0.015903 -0.015903   \n",
       "3     -0.015903 -0.015903 -0.015903 -0.015903 -0.015903 -0.015903 -0.015903   \n",
       "4     -0.015903 -0.015903 -0.015903 -0.015903 -0.015903 -0.015903 -0.015903   \n",
       "...         ...       ...       ...       ...       ...       ...       ...   \n",
       "27131 -0.015780 -0.015780 -0.015780 -0.015780 -0.015780 -0.015780 -0.015780   \n",
       "27132 -0.015779 -0.015779 -0.015779 -0.015779 -0.015779 -0.015779 -0.015779   \n",
       "27133 -0.015779 -0.015779 -0.015779 -0.015779 -0.015779 -0.015779 -0.015779   \n",
       "27134 -0.015779 -0.015779 -0.015779 -0.015779 -0.015779 -0.015779 -0.015779   \n",
       "27135 -0.015779 -0.015779 -0.015779 -0.015779 -0.015779 -0.015779 -0.015779   \n",
       "\n",
       "             49        50        51        52        53        54        55  \\\n",
       "0     -0.015903 -0.015903 -0.015903 -0.015903 -0.015903 -0.015903 -0.015903   \n",
       "1     -0.015903 -0.015903 -0.015903 -0.015903 -0.015903 -0.015903 -0.015903   \n",
       "2     -0.015903 -0.015903 -0.015903 -0.015903 -0.015903 -0.015903 -0.015903   \n",
       "3     -0.015903 -0.015903 -0.015903 -0.015903 -0.015903 -0.015903 -0.015903   \n",
       "4     -0.015903 -0.015903 -0.015903 -0.015903 -0.015903 -0.015903 -0.015903   \n",
       "...         ...       ...       ...       ...       ...       ...       ...   \n",
       "27131 -0.015780 -0.015780 -0.015780 -0.015780 -0.015780 -0.015780 -0.015780   \n",
       "27132 -0.015779 -0.015779 -0.015779 -0.015779 -0.015779 -0.015779 -0.015779   \n",
       "27133 -0.015779 -0.015779 -0.015779 -0.015779 -0.015779 -0.015779 -0.015779   \n",
       "27134 -0.015779 -0.015779 -0.015779 -0.015779 -0.015779 -0.015779 -0.015779   \n",
       "27135 -0.015779 -0.015779 -0.015779 -0.015779 -0.015779 -0.015779 -0.015779   \n",
       "\n",
       "             56        57        58        59        60        61        62  \\\n",
       "0     -0.015903 -0.015903 -0.015903 -0.015903 -0.015903 -0.015903 -0.015903   \n",
       "1     -0.015903 -0.015903 -0.015903 -0.015903 -0.015903 -0.015903 -0.015903   \n",
       "2     -0.015903 -0.015903 -0.015903 -0.015903 -0.015903 -0.015903 -0.015903   \n",
       "3     -0.015903 -0.015903 -0.015903 -0.015903 -0.015903 -0.015903 -0.015903   \n",
       "4     -0.015903 -0.015903 -0.015903 -0.015903 -0.015903 -0.015903 -0.015903   \n",
       "...         ...       ...       ...       ...       ...       ...       ...   \n",
       "27131 -0.015780 -0.015780 -0.015780 -0.015780 -0.015780 -0.015780  0.820535   \n",
       "27132 -0.015779 -0.015779 -0.015779 -0.015779 -0.015779 -0.015779  0.820534   \n",
       "27133 -0.015779 -0.015779 -0.015779 -0.015779 -0.015779 -0.015779  0.820532   \n",
       "27134 -0.015779 -0.015779 -0.015779 -0.015779 -0.015779 -0.015779  0.820531   \n",
       "27135 -0.015779 -0.015779 -0.015779 -0.015779 -0.015779 -0.015779  0.820529   \n",
       "\n",
       "             63        64        65        66        67        68        69  \\\n",
       "0     -0.015903 -0.015903 -0.015903 -0.015903 -0.015903 -0.015903 -0.015903   \n",
       "1     -0.015903 -0.015903 -0.015903 -0.015903 -0.015903 -0.015903 -0.015903   \n",
       "2     -0.015903 -0.015903 -0.015903 -0.015903 -0.015903 -0.015903 -0.015903   \n",
       "3     -0.015903 -0.015903 -0.015903 -0.015903 -0.015903 -0.015903 -0.015903   \n",
       "4     -0.015903 -0.015903 -0.015903 -0.015903 -0.015903 -0.015903 -0.015903   \n",
       "...         ...       ...       ...       ...       ...       ...       ...   \n",
       "27131 -0.015780 -0.015780 -0.015780 -0.015780 -0.015780 -0.015780 -0.015780   \n",
       "27132 -0.015779 -0.015779 -0.015779 -0.015779 -0.015779 -0.015779 -0.015779   \n",
       "27133 -0.015779 -0.015779 -0.015779 -0.015779 -0.015779 -0.015779 -0.015779   \n",
       "27134 -0.015779 -0.015779 -0.015779 -0.015779 -0.015779 -0.015779 -0.015779   \n",
       "27135 -0.015779 -0.015779 -0.015779 -0.015779 -0.015779 -0.015779 -0.015779   \n",
       "\n",
       "             70        71        72        73        74  \n",
       "0     -0.015903 -0.015903 -0.015903 -0.015903 -0.015903  \n",
       "1     -0.015903 -0.015903 -0.015903 -0.015903 -0.015903  \n",
       "2     -0.015903 -0.015903 -0.015903 -0.015903 -0.015903  \n",
       "3     -0.015903 -0.015903 -0.015903 -0.015903 -0.015903  \n",
       "4     -0.015903 -0.015903 -0.015903 -0.015903 -0.015903  \n",
       "...         ...       ...       ...       ...       ...  \n",
       "27131 -0.015780 -0.015780 -0.015780 -0.015780 -0.015780  \n",
       "27132 -0.015779 -0.015779 -0.015779 -0.015779 -0.015779  \n",
       "27133 -0.015779 -0.015779 -0.015779 -0.015779 -0.015779  \n",
       "27134 -0.015779 -0.015779 -0.015779 -0.015779 -0.015779  \n",
       "27135 -0.015779 -0.015779 -0.015779 -0.015779 -0.015779  \n",
       "\n",
       "[27136 rows x 75 columns]"
      ]
     },
     "execution_count": 13,
     "metadata": {},
     "output_type": "execute_result"
    }
   ],
   "source": [
    "# Normalizing the Data \n",
    "normalized_df = normalize(scaled_df) \n",
    "  \n",
    "# Converting the numpy array into a pandas DataFrame \n",
    "normalized_df = pd.DataFrame(normalized_df) \n",
    "\n",
    "normalized_df"
   ]
  },
  {
   "cell_type": "markdown",
   "metadata": {},
   "source": [
    "Principal Component Analysis"
   ]
  },
  {
   "cell_type": "code",
   "execution_count": 14,
   "metadata": {},
   "outputs": [
    {
     "data": {
      "text/html": [
       "<div>\n",
       "<style scoped>\n",
       "    .dataframe tbody tr th:only-of-type {\n",
       "        vertical-align: middle;\n",
       "    }\n",
       "\n",
       "    .dataframe tbody tr th {\n",
       "        vertical-align: top;\n",
       "    }\n",
       "\n",
       "    .dataframe thead th {\n",
       "        text-align: right;\n",
       "    }\n",
       "</style>\n",
       "<table border=\"1\" class=\"dataframe\">\n",
       "  <thead>\n",
       "    <tr style=\"text-align: right;\">\n",
       "      <th></th>\n",
       "      <th>P1</th>\n",
       "      <th>P2</th>\n",
       "    </tr>\n",
       "  </thead>\n",
       "  <tbody>\n",
       "    <tr>\n",
       "      <th>0</th>\n",
       "      <td>0.246592</td>\n",
       "      <td>-0.201330</td>\n",
       "    </tr>\n",
       "    <tr>\n",
       "      <th>1</th>\n",
       "      <td>0.246834</td>\n",
       "      <td>-0.197981</td>\n",
       "    </tr>\n",
       "    <tr>\n",
       "      <th>2</th>\n",
       "      <td>0.246818</td>\n",
       "      <td>-0.200738</td>\n",
       "    </tr>\n",
       "    <tr>\n",
       "      <th>3</th>\n",
       "      <td>0.246321</td>\n",
       "      <td>-0.203671</td>\n",
       "    </tr>\n",
       "    <tr>\n",
       "      <th>4</th>\n",
       "      <td>0.245383</td>\n",
       "      <td>-0.201274</td>\n",
       "    </tr>\n",
       "  </tbody>\n",
       "</table>\n",
       "</div>"
      ],
      "text/plain": [
       "         P1        P2\n",
       "0  0.246592 -0.201330\n",
       "1  0.246834 -0.197981\n",
       "2  0.246818 -0.200738\n",
       "3  0.246321 -0.203671\n",
       "4  0.245383 -0.201274"
      ]
     },
     "execution_count": 14,
     "metadata": {},
     "output_type": "execute_result"
    }
   ],
   "source": [
    "# Principal component analysis (PCA) is a technique to bring out strong patterns in a dataset by supressing variations.\n",
    "# It is used to clean data sets to make it easy to explore and analyse. \n",
    "\n",
    "from sklearn.decomposition import PCA\n",
    "\n",
    "pca = PCA(n_components = 2) \n",
    "X_principal = pca.fit_transform(normalized_df) \n",
    "\n",
    "X_principal = pd.DataFrame(X_principal) \n",
    "X_principal.columns = ['P1', 'P2'] \n",
    "  \n",
    "X_principal.head()"
   ]
  },
  {
   "cell_type": "markdown",
   "metadata": {},
   "source": [
    "Model Building and Evaluation\n",
    "K-means clustering is one of the simplest and popular unsupervised machine learning algorithms.\n",
    "K-means algorithm identifies k number of centroids, and then allocates every data point to the nearest cluster, while keeping the centroids as small as possible.\n",
    "The ‘means’ in the K-means refers to averaging of the data; that is, finding the centroid.\n"
   ]
  },
  {
   "cell_type": "markdown",
   "metadata": {},
   "source": [
    "Elbow Method\n"
   ]
  },
  {
   "cell_type": "code",
   "execution_count": 15,
   "metadata": {},
   "outputs": [
    {
     "data": {
      "image/png": "[encoded data removed]",
      "text/plain": [
       "<Figure size 1008x576 with 1 Axes>"
      ]
     },
     "metadata": {
      "needs_background": "light"
     },
     "output_type": "display_data"
    }
   ],
   "source": [
    "# Elbow method is used to run k-means clustering on a given dataset for a range of values of k (e.g k=1 to 10).\n",
    "# For each value of k, we calculate sum of squared errors (SSE) and \n",
    "# the point where the SSE starts to flatten out is the required k value.\n",
    "\n",
    "from sklearn.cluster import KMeans\n",
    "\n",
    "sse = {}\n",
    "for k in range(1, 10):\n",
    "    kmeans = KMeans(n_clusters=k, max_iter=1000).fit(X_principal)\n",
    "    sse[k] = kmeans.inertia_ # Inertia: Sum of distances of samples to their closest cluster center\n",
    "\n",
    "plt.figure()\n",
    "plt.plot(list(sse.keys()), list(sse.values()))\n",
    "plt.title('The Elbow Method')\n",
    "plt.xlabel(\"Number of cluster\")\n",
    "plt.ylabel(\"SSE\")\n",
    "plt.show()"
   ]
  },
  {
   "cell_type": "markdown",
   "metadata": {},
   "source": [
    "Silhouette Coefficient\n"
   ]
  },
  {
   "cell_type": "code",
   "execution_count": 16,
   "metadata": {},
   "outputs": [
    {
     "data": {
      "image/png": "[encoded data removed]",
      "text/plain": [
       "<Figure size 1008x576 with 1 Axes>"
      ]
     },
     "metadata": {
      "needs_background": "light"
     },
     "output_type": "display_data"
    }
   ],
   "source": [
    "# K-Means clustering can then be evaluated using Silhouette Coefficient.\n",
    "# A higher Silhouette Coefficient score relates to a model with better-defined clusters.\n",
    "\n",
    "from sklearn.metrics import silhouette_score\n",
    "\n",
    "silhouette_scores = [] \n",
    "\n",
    "for n_cluster in range(2, 8):\n",
    "    silhouette_scores.append( \n",
    "        silhouette_score(X_principal, KMeans(n_clusters = n_cluster).fit_predict(X_principal))) \n",
    "    \n",
    "# Plotting a bar graph to compare the results \n",
    "k = [2, 3, 4, 5, 6,7] \n",
    "plt.bar(k, silhouette_scores) \n",
    "plt.title('Silhouette Coefficient')\n",
    "plt.xlabel('Number of clusters', fontsize = 10) \n",
    "plt.ylabel('Silhouette Score', fontsize = 10) \n",
    "plt.show()"
   ]
  },
  {
   "cell_type": "markdown",
   "metadata": {},
   "source": [
    "From the Elbow method and Silhouette Coefficient, it is clear that k=4 is the best value in this case."
   ]
  },
  {
   "cell_type": "markdown",
   "metadata": {},
   "source": [
    "K-Means Clustering Model"
   ]
  },
  {
   "cell_type": "code",
   "execution_count": 17,
   "metadata": {},
   "outputs": [
    {
     "data": {
      "text/plain": [
       "KMeans(n_clusters=4)"
      ]
     },
     "execution_count": 17,
     "metadata": {},
     "output_type": "execute_result"
    }
   ],
   "source": [
    "# Using k=4 to make the KMeans model\n",
    "\n",
    "kmeans = KMeans(n_clusters=4)\n",
    "kmeans.fit(X_principal)"
   ]
  },
  {
   "cell_type": "code",
   "execution_count": 18,
   "metadata": {},
   "outputs": [
    {
     "data": {
      "image/png": "[encoded data removed]",
      "text/plain": [
       "<Figure size 1008x576 with 1 Axes>"
      ]
     },
     "metadata": {
      "needs_background": "light"
     },
     "output_type": "display_data"
    }
   ],
   "source": [
    "# Visualizing the clustering \n",
    "plt.scatter(X_principal['P1'], X_principal['P2'],  \n",
    "           c = KMeans(n_clusters = 4).fit_predict(X_principal), cmap =plt.cm.winter) \n",
    "plt.show()"
   ]
  },
  {
   "cell_type": "code",
   "execution_count": 19,
   "metadata": {},
   "outputs": [],
   "source": [
    "labels=kmeans.labels_\n",
    "clusters=pd.concat([cleaned_dataset, pd.DataFrame({'cluster':labels})], axis=1)"
   ]
  },
  {
   "cell_type": "code",
   "execution_count": 20,
   "metadata": {},
   "outputs": [
    {
     "data": {
      "image/png": "[encoded data removed]",
      "text/plain": [
       "<Figure size 864x216 with 4 Axes>"
      ]
     },
     "metadata": {
      "needs_background": "light"
     },
     "output_type": "display_data"
    },
    {
     "data": {
      "image/png": "[encoded data removed]",
      "text/plain": [
       "<Figure size 864x216 with 4 Axes>"
      ]
     },
     "metadata": {
      "needs_background": "light"
     },
     "output_type": "display_data"
    },
    {
     "data": {
      "image/png": "[encoded data removed]",
      "text/plain": [
       "<Figure size 864x216 with 4 Axes>"
      ]
     },
     "metadata": {
      "needs_background": "light"
     },
     "output_type": "display_data"
    },
    {
     "data": {
      "image/png": "[encoded data removed]",
      "text/plain": [
       "<Figure size 864x216 with 4 Axes>"
      ]
     },
     "metadata": {
      "needs_background": "light"
     },
     "output_type": "display_data"
    },
    {
     "data": {
      "image/png": "[encoded data removed]",
      "text/plain": [
       "<Figure size 864x216 with 4 Axes>"
      ]
     },
     "metadata": {
      "needs_background": "light"
     },
     "output_type": "display_data"
    },
    {
     "data": {
      "image/png": "[encoded data removed]",
      "text/plain": [
       "<Figure size 864x216 with 4 Axes>"
      ]
     },
     "metadata": {
      "needs_background": "light"
     },
     "output_type": "display_data"
    },
    {
     "data": {
      "image/png": "[encoded data removed]",
      "text/plain": [
       "<Figure size 864x216 with 4 Axes>"
      ]
     },
     "metadata": {
      "needs_background": "light"
     },
     "output_type": "display_data"
    },
    {
     "data": {
      "image/png": "[encoded data removed]",
      "text/plain": [
       "<Figure size 864x216 with 4 Axes>"
      ]
     },
     "metadata": {
      "needs_background": "light"
     },
     "output_type": "display_data"
    },
    {
     "data": {
      "image/png": "[encoded data removed]",
      "text/plain": [
       "<Figure size 864x216 with 4 Axes>"
      ]
     },
     "metadata": {
      "needs_background": "light"
     },
     "output_type": "display_data"
    },
    {
     "data": {
      "image/png": "[encoded data removed]",
      "text/plain": [
       "<Figure size 864x216 with 4 Axes>"
      ]
     },
     "metadata": {
      "needs_background": "light"
     },
     "output_type": "display_data"
    },
    {
     "data": {
      "image/png": "[encoded data removed]",
      "text/plain": [
       "<Figure size 864x216 with 4 Axes>"
      ]
     },
     "metadata": {
      "needs_background": "light"
     },
     "output_type": "display_data"
    },
    {
     "data": {
      "image/png": "[encoded data removed]",
      "text/plain": [
       "<Figure size 864x216 with 4 Axes>"
      ]
     },
     "metadata": {
      "needs_background": "light"
     },
     "output_type": "display_data"
    },
    {
     "data": {
      "image/png": "[encoded data removed]",
      "text/plain": [
       "<Figure size 864x216 with 4 Axes>"
      ]
     },
     "metadata": {
      "needs_background": "light"
     },
     "output_type": "display_data"
    },
    {
     "data": {
      "image/png": "[encoded data removed]",
      "text/plain": [
       "<Figure size 864x216 with 4 Axes>"
      ]
     },
     "metadata": {
      "needs_background": "light"
     },
     "output_type": "display_data"
    },
    {
     "data": {
      "image/png": "[encoded data removed]",
      "text/plain": [
       "<Figure size 864x216 with 4 Axes>"
      ]
     },
     "metadata": {
      "needs_background": "light"
     },
     "output_type": "display_data"
    },
    {
     "data": {
      "image/png": "[encoded data removed]",
      "text/plain": [
       "<Figure size 864x216 with 4 Axes>"
      ]
     },
     "metadata": {
      "needs_background": "light"
     },
     "output_type": "display_data"
    },
    {
     "data": {
      "image/png": "[encoded data removed]",
      "text/plain": [
       "<Figure size 864x216 with 4 Axes>"
      ]
     },
     "metadata": {
      "needs_background": "light"
     },
     "output_type": "display_data"
    },
    {
     "data": {
      "image/png": "[encoded data removed]",
      "text/plain": [
       "<Figure size 864x216 with 4 Axes>"
      ]
     },
     "metadata": {
      "needs_background": "light"
     },
     "output_type": "display_data"
    },
    {
     "data": {
      "image/png": "[encoded data removed]",
      "text/plain": [
       "<Figure size 864x216 with 4 Axes>"
      ]
     },
     "metadata": {
      "needs_background": "light"
     },
     "output_type": "display_data"
    },
    {
     "data": {
      "image/png": "[encoded data removed]",
      "text/plain": [
       "<Figure size 864x216 with 4 Axes>"
      ]
     },
     "metadata": {
      "needs_background": "light"
     },
     "output_type": "display_data"
    },
    {
     "data": {
      "image/png": "[encoded data removed]",
      "text/plain": [
       "<Figure size 864x216 with 4 Axes>"
      ]
     },
     "metadata": {
      "needs_background": "light"
     },
     "output_type": "display_data"
    },
    {
     "data": {
      "image/png": "[encoded data removed]",
      "text/plain": [
       "<Figure size 864x216 with 4 Axes>"
      ]
     },
     "metadata": {
      "needs_background": "light"
     },
     "output_type": "display_data"
    },
    {
     "data": {
      "image/png": "[encoded data removed]",
      "text/plain": [
       "<Figure size 864x216 with 4 Axes>"
      ]
     },
     "metadata": {
      "needs_background": "light"
     },
     "output_type": "display_data"
    },
    {
     "data": {
      "image/png": "[encoded data removed]",
      "text/plain": [
       "<Figure size 864x216 with 4 Axes>"
      ]
     },
     "metadata": {
      "needs_background": "light"
     },
     "output_type": "display_data"
    },
    {
     "data": {
      "image/png": "[encoded data removed]",
      "text/plain": [
       "<Figure size 864x216 with 4 Axes>"
      ]
     },
     "metadata": {
      "needs_background": "light"
     },
     "output_type": "display_data"
    },
    {
     "data": {
      "image/png": "[encoded data removed]",
      "text/plain": [
       "<Figure size 864x216 with 4 Axes>"
      ]
     },
     "metadata": {
      "needs_background": "light"
     },
     "output_type": "display_data"
    },
    {
     "data": {
      "image/png": "[encoded data removed]",
      "text/plain": [
       "<Figure size 864x216 with 4 Axes>"
      ]
     },
     "metadata": {
      "needs_background": "light"
     },
     "output_type": "display_data"
    },
    {
     "data": {
      "image/png": "[encoded data removed]",
      "text/plain": [
       "<Figure size 864x216 with 4 Axes>"
      ]
     },
     "metadata": {
      "needs_background": "light"
     },
     "output_type": "display_data"
    },
    {
     "data": {
      "image/png": "[encoded data removed]",
      "text/plain": [
       "<Figure size 864x216 with 4 Axes>"
      ]
     },
     "metadata": {
      "needs_background": "light"
     },
     "output_type": "display_data"
    },
    {
     "data": {
      "image/png": "[encoded data removed]",
      "text/plain": [
       "<Figure size 864x216 with 4 Axes>"
      ]
     },
     "metadata": {
      "needs_background": "light"
     },
     "output_type": "display_data"
    },
    {
     "data": {
      "image/png": "[encoded data removed]",
      "text/plain": [
       "<Figure size 864x216 with 4 Axes>"
      ]
     },
     "metadata": {
      "needs_background": "light"
     },
     "output_type": "display_data"
    },
    {
     "data": {
      "image/png": "[encoded data removed]",
      "text/plain": [
       "<Figure size 864x216 with 4 Axes>"
      ]
     },
     "metadata": {
      "needs_background": "light"
     },
     "output_type": "display_data"
    },
    {
     "data": {
      "image/png": "[encoded data removed]",
      "text/plain": [
       "<Figure size 864x216 with 4 Axes>"
      ]
     },
     "metadata": {
      "needs_background": "light"
     },
     "output_type": "display_data"
    },
    {
     "data": {
      "image/png": "[encoded data removed]",
      "text/plain": [
       "<Figure size 864x216 with 4 Axes>"
      ]
     },
     "metadata": {
      "needs_background": "light"
     },
     "output_type": "display_data"
    },
    {
     "data": {
      "image/png": "[encoded data removed]",
      "text/plain": [
       "<Figure size 864x216 with 4 Axes>"
      ]
     },
     "metadata": {
      "needs_background": "light"
     },
     "output_type": "display_data"
    },
    {
     "data": {
      "image/png": "[encoded data removed]",
      "text/plain": [
       "<Figure size 864x216 with 4 Axes>"
      ]
     },
     "metadata": {
      "needs_background": "light"
     },
     "output_type": "display_data"
    },
    {
     "data": {
      "image/png": "[encoded data removed]",
      "text/plain": [
       "<Figure size 864x216 with 4 Axes>"
      ]
     },
     "metadata": {
      "needs_background": "light"
     },
     "output_type": "display_data"
    },
    {
     "data": {
      "image/png": "[encoded data removed]",
      "text/plain": [
       "<Figure size 864x216 with 4 Axes>"
      ]
     },
     "metadata": {
      "needs_background": "light"
     },
     "output_type": "display_data"
    },
    {
     "data": {
      "image/png": "[encoded data removed]",
      "text/plain": [
       "<Figure size 864x216 with 4 Axes>"
      ]
     },
     "metadata": {
      "needs_background": "light"
     },
     "output_type": "display_data"
    },
    {
     "data": {
      "image/png": "[encoded data removed]",
      "text/plain": [
       "<Figure size 864x216 with 4 Axes>"
      ]
     },
     "metadata": {
      "needs_background": "light"
     },
     "output_type": "display_data"
    },
    {
     "data": {
      "image/png": "[encoded data removed]",
      "text/plain": [
       "<Figure size 864x216 with 4 Axes>"
      ]
     },
     "metadata": {
      "needs_background": "light"
     },
     "output_type": "display_data"
    },
    {
     "data": {
      "image/png": "[encoded data removed]",
      "text/plain": [
       "<Figure size 864x216 with 4 Axes>"
      ]
     },
     "metadata": {
      "needs_background": "light"
     },
     "output_type": "display_data"
    },
    {
     "data": {
      "image/png": "[encoded data removed]",
      "text/plain": [
       "<Figure size 864x216 with 4 Axes>"
      ]
     },
     "metadata": {
      "needs_background": "light"
     },
     "output_type": "display_data"
    },
    {
     "data": {
      "image/png": "[encoded data removed]",
      "text/plain": [
       "<Figure size 864x216 with 4 Axes>"
      ]
     },
     "metadata": {
      "needs_background": "light"
     },
     "output_type": "display_data"
    },
    {
     "data": {
      "image/png": "[encoded data removed]",
      "text/plain": [
       "<Figure size 864x216 with 4 Axes>"
      ]
     },
     "metadata": {
      "needs_background": "light"
     },
     "output_type": "display_data"
    },
    {
     "data": {
      "image/png": "[encoded data removed]",
      "text/plain": [
       "<Figure size 864x216 with 4 Axes>"
      ]
     },
     "metadata": {
      "needs_background": "light"
     },
     "output_type": "display_data"
    },
    {
     "data": {
      "image/png": "[encoded data removed]",
      "text/plain": [
       "<Figure size 864x216 with 4 Axes>"
      ]
     },
     "metadata": {
      "needs_background": "light"
     },
     "output_type": "display_data"
    },
    {
     "data": {
      "image/png": "[encoded data removed]",
      "text/plain": [
       "<Figure size 864x216 with 4 Axes>"
      ]
     },
     "metadata": {
      "needs_background": "light"
     },
     "output_type": "display_data"
    },
    {
     "data": {
      "image/png": "[encoded data removed]",
      "text/plain": [
       "<Figure size 864x216 with 4 Axes>"
      ]
     },
     "metadata": {
      "needs_background": "light"
     },
     "output_type": "display_data"
    },
    {
     "data": {
      "image/png": "[encoded data removed]",
      "text/plain": [
       "<Figure size 864x216 with 4 Axes>"
      ]
     },
     "metadata": {
      "needs_background": "light"
     },
     "output_type": "display_data"
    },
    {
     "data": {
      "image/png": "[encoded data removed]",
      "text/plain": [
       "<Figure size 864x216 with 4 Axes>"
      ]
     },
     "metadata": {
      "needs_background": "light"
     },
     "output_type": "display_data"
    },
    {
     "data": {
      "image/png": "[encoded data removed]",
      "text/plain": [
       "<Figure size 864x216 with 4 Axes>"
      ]
     },
     "metadata": {
      "needs_background": "light"
     },
     "output_type": "display_data"
    },
    {
     "data": {
      "image/png": "[encoded data removed]",
      "text/plain": [
       "<Figure size 864x216 with 4 Axes>"
      ]
     },
     "metadata": {
      "needs_background": "light"
     },
     "output_type": "display_data"
    },
    {
     "data": {
      "image/png": "[encoded data removed]",
      "text/plain": [
       "<Figure size 864x216 with 4 Axes>"
      ]
     },
     "metadata": {
      "needs_background": "light"
     },
     "output_type": "display_data"
    },
    {
     "data": {
      "image/png": "[encoded data removed]",
      "text/plain": [
       "<Figure size 864x216 with 4 Axes>"
      ]
     },
     "metadata": {
      "needs_background": "light"
     },
     "output_type": "display_data"
    },
    {
     "data": {
      "image/png": "[encoded data removed]",
      "text/plain": [
       "<Figure size 864x216 with 4 Axes>"
      ]
     },
     "metadata": {
      "needs_background": "light"
     },
     "output_type": "display_data"
    },
    {
     "data": {
      "image/png": "[encoded data removed]",
      "text/plain": [
       "<Figure size 864x216 with 4 Axes>"
      ]
     },
     "metadata": {
      "needs_background": "light"
     },
     "output_type": "display_data"
    },
    {
     "data": {
      "image/png": "[encoded data removed]",
      "text/plain": [
       "<Figure size 864x216 with 4 Axes>"
      ]
     },
     "metadata": {
      "needs_background": "light"
     },
     "output_type": "display_data"
    },
    {
     "data": {
      "image/png": "[encoded data removed]",
      "text/plain": [
       "<Figure size 864x216 with 4 Axes>"
      ]
     },
     "metadata": {
      "needs_background": "light"
     },
     "output_type": "display_data"
    },
    {
     "data": {
      "image/png": "[encoded data removed]",
      "text/plain": [
       "<Figure size 864x216 with 4 Axes>"
      ]
     },
     "metadata": {
      "needs_background": "light"
     },
     "output_type": "display_data"
    },
    {
     "data": {
      "image/png": "[encoded data removed]",
      "text/plain": [
       "<Figure size 864x216 with 4 Axes>"
      ]
     },
     "metadata": {
      "needs_background": "light"
     },
     "output_type": "display_data"
    },
    {
     "data": {
      "image/png": "[encoded data removed]",
      "text/plain": [
       "<Figure size 864x216 with 4 Axes>"
      ]
     },
     "metadata": {
      "needs_background": "light"
     },
     "output_type": "display_data"
    },
    {
     "data": {
      "image/png": "[encoded data removed]",
      "text/plain": [
       "<Figure size 864x216 with 4 Axes>"
      ]
     },
     "metadata": {
      "needs_background": "light"
     },
     "output_type": "display_data"
    },
    {
     "data": {
      "image/png": "[encoded data removed]",
      "text/plain": [
       "<Figure size 864x216 with 4 Axes>"
      ]
     },
     "metadata": {
      "needs_background": "light"
     },
     "output_type": "display_data"
    },
    {
     "data": {
      "image/png": "[encoded data removed]",
      "text/plain": [
       "<Figure size 864x216 with 4 Axes>"
      ]
     },
     "metadata": {
      "needs_background": "light"
     },
     "output_type": "display_data"
    },
    {
     "data": {
      "image/png": "[encoded data removed]",
      "text/plain": [
       "<Figure size 864x216 with 4 Axes>"
      ]
     },
     "metadata": {
      "needs_background": "light"
     },
     "output_type": "display_data"
    },
    {
     "data": {
      "image/png": "[encoded data removed]",
      "text/plain": [
       "<Figure size 864x216 with 4 Axes>"
      ]
     },
     "metadata": {
      "needs_background": "light"
     },
     "output_type": "display_data"
    },
    {
     "data": {
      "image/png": "[encoded data removed]",
      "text/plain": [
       "<Figure size 864x216 with 4 Axes>"
      ]
     },
     "metadata": {
      "needs_background": "light"
     },
     "output_type": "display_data"
    },
    {
     "data": {
      "image/png": "[encoded data removed]",
      "text/plain": [
       "<Figure size 864x216 with 4 Axes>"
      ]
     },
     "metadata": {
      "needs_background": "light"
     },
     "output_type": "display_data"
    },
    {
     "data": {
      "image/png": "[encoded data removed]",
      "text/plain": [
       "<Figure size 864x216 with 4 Axes>"
      ]
     },
     "metadata": {
      "needs_background": "light"
     },
     "output_type": "display_data"
    },
    {
     "data": {
      "image/png": "[encoded data removed]",
      "text/plain": [
       "<Figure size 864x216 with 4 Axes>"
      ]
     },
     "metadata": {
      "needs_background": "light"
     },
     "output_type": "display_data"
    },
    {
     "data": {
      "image/png": "[encoded data removed]",
      "text/plain": [
       "<Figure size 864x216 with 4 Axes>"
      ]
     },
     "metadata": {
      "needs_background": "light"
     },
     "output_type": "display_data"
    },
    {
     "data": {
      "image/png": "[encoded data removed]",
      "text/plain": [
       "<Figure size 864x216 with 4 Axes>"
      ]
     },
     "metadata": {
      "needs_background": "light"
     },
     "output_type": "display_data"
    },
    {
     "data": {
      "image/png": "[encoded data removed]",
      "text/plain": [
       "<Figure size 864x216 with 4 Axes>"
      ]
     },
     "metadata": {
      "needs_background": "light"
     },
     "output_type": "display_data"
    },
    {
     "data": {
      "image/png": "[encoded data removed]",
      "text/plain": [
       "<Figure size 864x216 with 4 Axes>"
      ]
     },
     "metadata": {
      "needs_background": "light"
     },
     "output_type": "display_data"
    },
    {
     "data": {
      "image/png": "[encoded data removed]",
      "text/plain": [
       "<Figure size 864x216 with 4 Axes>"
      ]
     },
     "metadata": {
      "needs_background": "light"
     },
     "output_type": "display_data"
    }
   ],
   "source": [
    "for c in clusters:\n",
    "    grid= sns.FacetGrid(clusters, col='cluster')\n",
    "    grid.map(plt.hist, c)"
   ]
  },
  {
   "cell_type": "markdown",
   "metadata": {},
   "source": [
    "Result\n",
    "\n",
    "Cluster 0\n",
    "\n",
    "These are the people with maximum death rate.\n",
    "People are most affected in winters (December to March).\n",
    "Both males and females are equally imapcted by Covid in this group.\n",
    "People from age group 70-84 belong to this group.\n",
    "People from New York city and California fall in this category.\n",
    "This is the group that requires vaccinations before other people.\n",
    "\n",
    "Cluster 1\n",
    "\n",
    "These are the people having intermediate death rates.\n",
    "\n",
    "Cluster 2\n",
    "\n",
    "These are the people with least death rate.\n",
    "\n",
    "Cluster 3\n",
    "\n",
    "These are the people having intermediate death rates.\n",
    "​"
   ]
  },
  {
   "cell_type": "code",
   "execution_count": null,
   "metadata": {},
   "outputs": [],
   "source": []
  }
 ],
 "metadata": {
  "kernelspec": {
   "display_name": "Python 3",
   "language": "python",
   "name": "python3"
  },
  "language_info": {
   "codemirror_mode": {
    "name": "ipython",
    "version": 3
   },
   "file_extension": ".py",
   "mimetype": "text/x-python",
   "name": "python",
   "nbconvert_exporter": "python",
   "pygments_lexer": "ipython3",
   "version": "3.8.5"
  }
 },
 "nbformat": 4,
 "nbformat_minor": 4
}
