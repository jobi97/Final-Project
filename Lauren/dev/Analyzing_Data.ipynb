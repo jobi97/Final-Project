{
 "cells": [
  {
   "cell_type": "code",
   "execution_count": 11,
   "metadata": {},
   "outputs": [],
   "source": [
    "#import dependencies\n",
    "import pandas as pd\n",
    "import matplotlib\n",
    "import matplotlib.pyplot as plt\n",
    "%matplotlib inline"
   ]
  },
  {
   "cell_type": "code",
   "execution_count": 12,
   "metadata": {},
   "outputs": [],
   "source": [
    "#read in data frame from database \n",
    "data_df = pd.read_csv(\"Resources/Death_Data_Normalized.csv\")\n",
    "vaccine_df = pd.read_csv(\"Resources/Total_Vaccine_Distro.csv\")\n",
    "combined_df = pd.read_csv(\"Resources/Combined_data.csv\")\n",
    "weekly_deaths = pd.read_csv(\"Resources/normalized_death_data.csv\")"
   ]
  },
  {
   "cell_type": "code",
   "execution_count": 13,
   "metadata": {},
   "outputs": [
    {
     "data": {
      "text/plain": [
       "Week             object\n",
       "Vaccinations    float64\n",
       "dtype: object"
      ]
     },
     "execution_count": 13,
     "metadata": {},
     "output_type": "execute_result"
    }
   ],
   "source": [
    "vaccine_df.dtypes"
   ]
  },
  {
   "cell_type": "code",
   "execution_count": 14,
   "metadata": {},
   "outputs": [
    {
     "data": {
      "text/html": [
       "<div>\n",
       "<style scoped>\n",
       "    .dataframe tbody tr th:only-of-type {\n",
       "        vertical-align: middle;\n",
       "    }\n",
       "\n",
       "    .dataframe tbody tr th {\n",
       "        vertical-align: top;\n",
       "    }\n",
       "\n",
       "    .dataframe thead th {\n",
       "        text-align: right;\n",
       "    }\n",
       "</style>\n",
       "<table border=\"1\" class=\"dataframe\">\n",
       "  <thead>\n",
       "    <tr style=\"text-align: right;\">\n",
       "      <th></th>\n",
       "      <th>week</th>\n",
       "      <th>ai_an_nh</th>\n",
       "      <th>asian_pi_nh</th>\n",
       "      <th>black_nh</th>\n",
       "      <th>hispanic</th>\n",
       "      <th>white_nh</th>\n",
       "      <th>total</th>\n",
       "      <th>vaccinations</th>\n",
       "    </tr>\n",
       "  </thead>\n",
       "  <tbody>\n",
       "    <tr>\n",
       "      <th>0</th>\n",
       "      <td>2021-01-02</td>\n",
       "      <td>4.99</td>\n",
       "      <td>4.26</td>\n",
       "      <td>3.53</td>\n",
       "      <td>5.52</td>\n",
       "      <td>4.87</td>\n",
       "      <td>23.17</td>\n",
       "      <td>2943525</td>\n",
       "    </tr>\n",
       "    <tr>\n",
       "      <th>1</th>\n",
       "      <td>2021-01-09</td>\n",
       "      <td>5.21</td>\n",
       "      <td>4.02</td>\n",
       "      <td>3.56</td>\n",
       "      <td>5.56</td>\n",
       "      <td>4.17</td>\n",
       "      <td>22.52</td>\n",
       "      <td>2071875</td>\n",
       "    </tr>\n",
       "    <tr>\n",
       "      <th>2</th>\n",
       "      <td>2021-01-16</td>\n",
       "      <td>4.99</td>\n",
       "      <td>3.20</td>\n",
       "      <td>3.27</td>\n",
       "      <td>4.37</td>\n",
       "      <td>3.54</td>\n",
       "      <td>19.37</td>\n",
       "      <td>2643225</td>\n",
       "    </tr>\n",
       "    <tr>\n",
       "      <th>3</th>\n",
       "      <td>2021-01-30</td>\n",
       "      <td>2.82</td>\n",
       "      <td>1.65</td>\n",
       "      <td>2.13</td>\n",
       "      <td>2.43</td>\n",
       "      <td>2.18</td>\n",
       "      <td>11.21</td>\n",
       "      <td>2084550</td>\n",
       "    </tr>\n",
       "    <tr>\n",
       "      <th>4</th>\n",
       "      <td>2021-02-06</td>\n",
       "      <td>1.92</td>\n",
       "      <td>1.45</td>\n",
       "      <td>1.86</td>\n",
       "      <td>1.78</td>\n",
       "      <td>1.71</td>\n",
       "      <td>8.72</td>\n",
       "      <td>2149875</td>\n",
       "    </tr>\n",
       "    <tr>\n",
       "      <th>5</th>\n",
       "      <td>2021-02-13</td>\n",
       "      <td>0.80</td>\n",
       "      <td>0.90</td>\n",
       "      <td>1.31</td>\n",
       "      <td>1.21</td>\n",
       "      <td>1.24</td>\n",
       "      <td>5.46</td>\n",
       "      <td>2149875</td>\n",
       "    </tr>\n",
       "    <tr>\n",
       "      <th>6</th>\n",
       "      <td>2021-02-20</td>\n",
       "      <td>0.47</td>\n",
       "      <td>0.67</td>\n",
       "      <td>1.13</td>\n",
       "      <td>1.01</td>\n",
       "      <td>0.94</td>\n",
       "      <td>4.22</td>\n",
       "      <td>2165475</td>\n",
       "    </tr>\n",
       "    <tr>\n",
       "      <th>7</th>\n",
       "      <td>2021-02-27</td>\n",
       "      <td>0.58</td>\n",
       "      <td>0.58</td>\n",
       "      <td>0.94</td>\n",
       "      <td>0.85</td>\n",
       "      <td>0.79</td>\n",
       "      <td>3.74</td>\n",
       "      <td>2149875</td>\n",
       "    </tr>\n",
       "    <tr>\n",
       "      <th>8</th>\n",
       "      <td>2021-03-06</td>\n",
       "      <td>0.29</td>\n",
       "      <td>0.43</td>\n",
       "      <td>0.77</td>\n",
       "      <td>0.69</td>\n",
       "      <td>0.58</td>\n",
       "      <td>2.76</td>\n",
       "      <td>2149875</td>\n",
       "    </tr>\n",
       "    <tr>\n",
       "      <th>9</th>\n",
       "      <td>2021-03-13</td>\n",
       "      <td>0.18</td>\n",
       "      <td>0.48</td>\n",
       "      <td>0.73</td>\n",
       "      <td>0.61</td>\n",
       "      <td>0.53</td>\n",
       "      <td>2.53</td>\n",
       "      <td>3400020</td>\n",
       "    </tr>\n",
       "    <tr>\n",
       "      <th>10</th>\n",
       "      <td>2021-03-20</td>\n",
       "      <td>0.33</td>\n",
       "      <td>0.32</td>\n",
       "      <td>0.68</td>\n",
       "      <td>0.62</td>\n",
       "      <td>0.53</td>\n",
       "      <td>2.48</td>\n",
       "      <td>6786830</td>\n",
       "    </tr>\n",
       "    <tr>\n",
       "      <th>11</th>\n",
       "      <td>2021-03-27</td>\n",
       "      <td>0.25</td>\n",
       "      <td>0.40</td>\n",
       "      <td>0.68</td>\n",
       "      <td>0.55</td>\n",
       "      <td>0.50</td>\n",
       "      <td>2.38</td>\n",
       "      <td>4262310</td>\n",
       "    </tr>\n",
       "    <tr>\n",
       "      <th>12</th>\n",
       "      <td>2021-04-03</td>\n",
       "      <td>0.22</td>\n",
       "      <td>0.20</td>\n",
       "      <td>0.55</td>\n",
       "      <td>0.35</td>\n",
       "      <td>0.41</td>\n",
       "      <td>1.73</td>\n",
       "      <td>5026280</td>\n",
       "    </tr>\n",
       "    <tr>\n",
       "      <th>13</th>\n",
       "      <td>2021-04-10</td>\n",
       "      <td>0.04</td>\n",
       "      <td>0.22</td>\n",
       "      <td>0.45</td>\n",
       "      <td>0.25</td>\n",
       "      <td>0.32</td>\n",
       "      <td>1.28</td>\n",
       "      <td>5007890</td>\n",
       "    </tr>\n",
       "    <tr>\n",
       "      <th>14</th>\n",
       "      <td>2021-04-17</td>\n",
       "      <td>0.11</td>\n",
       "      <td>0.13</td>\n",
       "      <td>0.22</td>\n",
       "      <td>0.16</td>\n",
       "      <td>0.22</td>\n",
       "      <td>0.84</td>\n",
       "      <td>7611440</td>\n",
       "    </tr>\n",
       "  </tbody>\n",
       "</table>\n",
       "</div>"
      ],
      "text/plain": [
       "          week  ai_an_nh  asian_pi_nh  black_nh  hispanic  white_nh  total  \\\n",
       "0   2021-01-02      4.99         4.26      3.53      5.52      4.87  23.17   \n",
       "1   2021-01-09      5.21         4.02      3.56      5.56      4.17  22.52   \n",
       "2   2021-01-16      4.99         3.20      3.27      4.37      3.54  19.37   \n",
       "3   2021-01-30      2.82         1.65      2.13      2.43      2.18  11.21   \n",
       "4   2021-02-06      1.92         1.45      1.86      1.78      1.71   8.72   \n",
       "5   2021-02-13      0.80         0.90      1.31      1.21      1.24   5.46   \n",
       "6   2021-02-20      0.47         0.67      1.13      1.01      0.94   4.22   \n",
       "7   2021-02-27      0.58         0.58      0.94      0.85      0.79   3.74   \n",
       "8   2021-03-06      0.29         0.43      0.77      0.69      0.58   2.76   \n",
       "9   2021-03-13      0.18         0.48      0.73      0.61      0.53   2.53   \n",
       "10  2021-03-20      0.33         0.32      0.68      0.62      0.53   2.48   \n",
       "11  2021-03-27      0.25         0.40      0.68      0.55      0.50   2.38   \n",
       "12  2021-04-03      0.22         0.20      0.55      0.35      0.41   1.73   \n",
       "13  2021-04-10      0.04         0.22      0.45      0.25      0.32   1.28   \n",
       "14  2021-04-17      0.11         0.13      0.22      0.16      0.22   0.84   \n",
       "\n",
       "    vaccinations  \n",
       "0        2943525  \n",
       "1        2071875  \n",
       "2        2643225  \n",
       "3        2084550  \n",
       "4        2149875  \n",
       "5        2149875  \n",
       "6        2165475  \n",
       "7        2149875  \n",
       "8        2149875  \n",
       "9        3400020  \n",
       "10       6786830  \n",
       "11       4262310  \n",
       "12       5026280  \n",
       "13       5007890  \n",
       "14       7611440  "
      ]
     },
     "execution_count": 14,
     "metadata": {},
     "output_type": "execute_result"
    }
   ],
   "source": [
    "combined_df"
   ]
  },
  {
   "cell_type": "code",
   "execution_count": 15,
   "metadata": {},
   "outputs": [
    {
     "data": {
      "text/html": [
       "<div>\n",
       "<style scoped>\n",
       "    .dataframe tbody tr th:only-of-type {\n",
       "        vertical-align: middle;\n",
       "    }\n",
       "\n",
       "    .dataframe tbody tr th {\n",
       "        vertical-align: top;\n",
       "    }\n",
       "\n",
       "    .dataframe thead th {\n",
       "        text-align: right;\n",
       "    }\n",
       "</style>\n",
       "<table border=\"1\" class=\"dataframe\">\n",
       "  <thead>\n",
       "    <tr style=\"text-align: right;\">\n",
       "      <th></th>\n",
       "      <th>Week received by CDC</th>\n",
       "      <th>AI/AN, NH</th>\n",
       "      <th>Asian/PI, NH</th>\n",
       "      <th>Black, NH</th>\n",
       "      <th>Hispanic</th>\n",
       "      <th>White, NH</th>\n",
       "    </tr>\n",
       "  </thead>\n",
       "  <tbody>\n",
       "    <tr>\n",
       "      <th>0</th>\n",
       "      <td>3/7/2020</td>\n",
       "      <td>0.14</td>\n",
       "      <td>0.19</td>\n",
       "      <td>0.26</td>\n",
       "      <td>0.14</td>\n",
       "      <td>0.12</td>\n",
       "    </tr>\n",
       "    <tr>\n",
       "      <th>1</th>\n",
       "      <td>3/14/2020</td>\n",
       "      <td>0.54</td>\n",
       "      <td>0.53</td>\n",
       "      <td>1.02</td>\n",
       "      <td>0.48</td>\n",
       "      <td>0.38</td>\n",
       "    </tr>\n",
       "    <tr>\n",
       "      <th>2</th>\n",
       "      <td>3/21/2020</td>\n",
       "      <td>0.65</td>\n",
       "      <td>1.29</td>\n",
       "      <td>3.15</td>\n",
       "      <td>1.69</td>\n",
       "      <td>1.17</td>\n",
       "    </tr>\n",
       "    <tr>\n",
       "      <th>3</th>\n",
       "      <td>3/28/2020</td>\n",
       "      <td>1.27</td>\n",
       "      <td>2.57</td>\n",
       "      <td>5.86</td>\n",
       "      <td>3.44</td>\n",
       "      <td>2.11</td>\n",
       "    </tr>\n",
       "    <tr>\n",
       "      <th>4</th>\n",
       "      <td>4/4/2020</td>\n",
       "      <td>1.30</td>\n",
       "      <td>3.47</td>\n",
       "      <td>7.10</td>\n",
       "      <td>4.80</td>\n",
       "      <td>3.08</td>\n",
       "    </tr>\n",
       "    <tr>\n",
       "      <th>...</th>\n",
       "      <td>...</td>\n",
       "      <td>...</td>\n",
       "      <td>...</td>\n",
       "      <td>...</td>\n",
       "      <td>...</td>\n",
       "      <td>...</td>\n",
       "    </tr>\n",
       "    <tr>\n",
       "      <th>56</th>\n",
       "      <td>4/3/2021</td>\n",
       "      <td>0.22</td>\n",
       "      <td>0.20</td>\n",
       "      <td>0.55</td>\n",
       "      <td>0.35</td>\n",
       "      <td>0.41</td>\n",
       "    </tr>\n",
       "    <tr>\n",
       "      <th>57</th>\n",
       "      <td>4/10/2021</td>\n",
       "      <td>0.04</td>\n",
       "      <td>0.22</td>\n",
       "      <td>0.45</td>\n",
       "      <td>0.25</td>\n",
       "      <td>0.32</td>\n",
       "    </tr>\n",
       "    <tr>\n",
       "      <th>58</th>\n",
       "      <td>4/17/2021</td>\n",
       "      <td>0.11</td>\n",
       "      <td>0.13</td>\n",
       "      <td>0.22</td>\n",
       "      <td>0.16</td>\n",
       "      <td>0.22</td>\n",
       "    </tr>\n",
       "    <tr>\n",
       "      <th>59</th>\n",
       "      <td>4/24/2021</td>\n",
       "      <td>0.14</td>\n",
       "      <td>0.03</td>\n",
       "      <td>0.12</td>\n",
       "      <td>0.05</td>\n",
       "      <td>0.10</td>\n",
       "    </tr>\n",
       "    <tr>\n",
       "      <th>60</th>\n",
       "      <td>5/1/2021</td>\n",
       "      <td>0.00</td>\n",
       "      <td>0.00</td>\n",
       "      <td>0.03</td>\n",
       "      <td>0.00</td>\n",
       "      <td>0.01</td>\n",
       "    </tr>\n",
       "  </tbody>\n",
       "</table>\n",
       "<p>61 rows × 6 columns</p>\n",
       "</div>"
      ],
      "text/plain": [
       "   Week received by CDC  AI/AN, NH  Asian/PI, NH  Black, NH  Hispanic  \\\n",
       "0              3/7/2020       0.14          0.19       0.26      0.14   \n",
       "1             3/14/2020       0.54          0.53       1.02      0.48   \n",
       "2             3/21/2020       0.65          1.29       3.15      1.69   \n",
       "3             3/28/2020       1.27          2.57       5.86      3.44   \n",
       "4              4/4/2020       1.30          3.47       7.10      4.80   \n",
       "..                  ...        ...           ...        ...       ...   \n",
       "56             4/3/2021       0.22          0.20       0.55      0.35   \n",
       "57            4/10/2021       0.04          0.22       0.45      0.25   \n",
       "58            4/17/2021       0.11          0.13       0.22      0.16   \n",
       "59            4/24/2021       0.14          0.03       0.12      0.05   \n",
       "60             5/1/2021       0.00          0.00       0.03      0.00   \n",
       "\n",
       "    White, NH  \n",
       "0        0.12  \n",
       "1        0.38  \n",
       "2        1.17  \n",
       "3        2.11  \n",
       "4        3.08  \n",
       "..        ...  \n",
       "56       0.41  \n",
       "57       0.32  \n",
       "58       0.22  \n",
       "59       0.10  \n",
       "60       0.01  \n",
       "\n",
       "[61 rows x 6 columns]"
      ]
     },
     "execution_count": 15,
     "metadata": {},
     "output_type": "execute_result"
    }
   ],
   "source": [
    "weekly_deaths"
   ]
  },
  {
   "cell_type": "code",
   "execution_count": 19,
   "metadata": {},
   "outputs": [
    {
     "data": {
      "image/png": "[encoded data removed]",
      "text/plain": [
       "<Figure size 432x288 with 1 Axes>"
      ]
     },
     "metadata": {
      "needs_background": "light"
     },
     "output_type": "display_data"
    }
   ],
   "source": [
    "combined_df.plot.line(x=\"week\", y=\"total\")\n",
    "\n",
    "plt.show()"
   ]
  },
  {
   "cell_type": "code",
   "execution_count": 20,
   "metadata": {},
   "outputs": [
    {
     "data": {
      "image/png": "[encoded data removed]",
      "text/plain": [
       "<Figure size 432x288 with 1 Axes>"
      ]
     },
     "metadata": {
      "needs_background": "light"
     },
     "output_type": "display_data"
    }
   ],
   "source": [
    "combined_df.plot.scatter(x=\"week\", y=\"total\")\n",
    "plt.show()"
   ]
  },
  {
   "cell_type": "code",
   "execution_count": 22,
   "metadata": {},
   "outputs": [
    {
     "data": {
      "text/plain": [
       "<AxesSubplot:xlabel='week'>"
      ]
     },
     "execution_count": 22,
     "metadata": {},
     "output_type": "execute_result"
    },
    {
     "data": {
      "image/png": "[encoded data removed]",
      "text/plain": [
       "<Figure size 432x288 with 1 Axes>"
      ]
     },
     "metadata": {
      "needs_background": "light"
     },
     "output_type": "display_data"
    }
   ],
   "source": [
    "combined_df.plot.line(x=\"week\", y=\"total\")"
   ]
  },
  {
   "cell_type": "code",
   "execution_count": 23,
   "metadata": {},
   "outputs": [],
   "source": [
    "import pandas as pd\n",
    "from pathlib import Path\n",
    "import matplotlib.pyplot as plt\n",
    "from sklearn.linear_model import LinearRegression\n",
    "import pandas as pd\n",
    "from sklearn import linear_model\n",
    "import statsmodels.api as sm"
   ]
  },
  {
   "cell_type": "code",
   "execution_count": 25,
   "metadata": {},
   "outputs": [
    {
     "data": {
      "image/png": "[encoded data removed]",
      "text/plain": [
       "<Figure size 432x288 with 1 Axes>"
      ]
     },
     "metadata": {
      "needs_background": "light"
     },
     "output_type": "display_data"
    }
   ],
   "source": [
    "plt.scatter(combined_df.week, combined_df.total)\n",
    "plt.show()"
   ]
  },
  {
   "cell_type": "code",
   "execution_count": 9,
   "metadata": {},
   "outputs": [],
   "source": [
    "X = combined_df[[\"ai_an_nh\", \"asian_pi_nh\", \"black_nh\", \"hispanic\", \"white_nh\", \"vaccinations\"]]\n",
    "Y = combined_df[\"total\"]"
   ]
  },
  {
   "cell_type": "code",
   "execution_count": 10,
   "metadata": {},
   "outputs": [
    {
     "name": "stdout",
     "output_type": "stream",
     "text": [
      "Intercept: \n",
      " -7.887113184779082e-11\n",
      "Coefficients: \n",
      " [ 1.00000000e+00  1.00000000e+00  1.00000000e+00  1.00000000e+00\n",
      "  1.00000000e+00 -2.05482206e-17]\n",
      "                            OLS Regression Results                            \n",
      "==============================================================================\n",
      "Dep. Variable:                  total   R-squared:                       1.000\n",
      "Model:                            OLS   Adj. R-squared:                  1.000\n",
      "Method:                 Least Squares   F-statistic:                 1.721e+21\n",
      "Date:                Sat, 08 May 2021   Prob (F-statistic):           5.40e-84\n",
      "Time:                        11:10:40   Log-Likelihood:                 312.82\n",
      "No. Observations:                  15   AIC:                            -611.6\n",
      "Df Residuals:                       8   BIC:                            -606.7\n",
      "Df Model:                           6                                         \n",
      "Covariance Type:            nonrobust                                         \n",
      "================================================================================\n",
      "                   coef    std err          t      P>|t|      [0.025      0.975]\n",
      "--------------------------------------------------------------------------------\n",
      "const         1.239e-09   7.98e-10      1.553      0.159   -6.01e-10    3.08e-09\n",
      "ai_an_nh         1.0000   4.03e-10   2.48e+09      0.000       1.000       1.000\n",
      "asian_pi_nh      1.0000   1.15e-09   8.69e+08      0.000       1.000       1.000\n",
      "black_nh         1.0000   9.62e-10   1.04e+09      0.000       1.000       1.000\n",
      "hispanic         1.0000   7.65e-10   1.31e+09      0.000       1.000       1.000\n",
      "white_nh         1.0000   6.85e-10   1.46e+09      0.000       1.000       1.000\n",
      "vaccinations -1.456e-16   8.77e-17     -1.662      0.135   -3.48e-16    5.65e-17\n",
      "==============================================================================\n",
      "Omnibus:                        2.749   Durbin-Watson:                   0.626\n",
      "Prob(Omnibus):                  0.253   Jarque-Bera (JB):                1.210\n",
      "Skew:                           0.683   Prob(JB):                        0.546\n",
      "Kurtosis:                       3.266   Cond. No.                     7.29e+07\n",
      "==============================================================================\n",
      "\n",
      "Notes:\n",
      "[1] Standard Errors assume that the covariance matrix of the errors is correctly specified.\n",
      "[2] The condition number is large, 7.29e+07. This might indicate that there are\n",
      "strong multicollinearity or other numerical problems.\n"
     ]
    },
    {
     "name": "stderr",
     "output_type": "stream",
     "text": [
      "C:\\Users\\lmsul\\anaconda3\\envs\\PythonData\\lib\\site-packages\\scipy\\stats\\stats.py:1604: UserWarning: kurtosistest only valid for n>=20 ... continuing anyway, n=15\n",
      "  \"anyway, n=%i\" % int(n))\n"
     ]
    }
   ],
   "source": [
    "# with sklearn\n",
    "regr = linear_model.LinearRegression()\n",
    "regr.fit(X, Y)\n",
    "\n",
    "print('Intercept: \\n', regr.intercept_)\n",
    "print('Coefficients: \\n', regr.coef_)\n",
    "\n",
    "# with statsmodels\n",
    "X = sm.add_constant(X) # adding a constant\n",
    " \n",
    "model = sm.OLS(Y, X).fit()\n",
    "predictions = model.predict(X) \n",
    " \n",
    "print_model = model.summary()\n",
    "print(print_model)"
   ]
  },
  {
   "cell_type": "code",
   "execution_count": null,
   "metadata": {},
   "outputs": [],
   "source": []
  }
 ],
 "metadata": {
  "kernelspec": {
   "display_name": "PythonData",
   "language": "python",
   "name": "pythondata"
  },
  "language_info": {
   "codemirror_mode": {
    "name": "ipython",
    "version": 3
   },
   "file_extension": ".py",
   "mimetype": "text/x-python",
   "name": "python",
   "nbconvert_exporter": "python",
   "pygments_lexer": "ipython3",
   "version": "3.7.9"
  }
 },
 "nbformat": 4,
 "nbformat_minor": 4
}
